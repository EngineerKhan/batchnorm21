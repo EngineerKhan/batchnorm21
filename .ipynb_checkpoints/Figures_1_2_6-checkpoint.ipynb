{
 "cells": [
  {
   "cell_type": "markdown",
   "metadata": {},
   "source": [
    "**Implementations for Figures 1,2 (in the main text), and 6 (in appendix)**"
   ]
  },
  {
   "cell_type": "code",
   "execution_count": 1,
   "metadata": {},
   "outputs": [],
   "source": [
    "# ####Required liberaries (uncomment to install)\n",
    "# ! pip install seaborn\n",
    "# ! pip install pandas"
   ]
  },
  {
   "cell_type": "code",
   "execution_count": 2,
   "metadata": {},
   "outputs": [],
   "source": [
    "import numpy as np\n",
    "import matplotlib\n",
    "from matplotlib import pyplot as plt\n",
    "import math\n",
    "import pandas as pd\n",
    "import seaborn as sns\n",
    "import ot\n",
    "font = {'size'   : 12}\n",
    "\n",
    "matplotlib.rc('font', **font)"
   ]
  },
  {
   "cell_type": "markdown",
   "metadata": {},
   "source": [
    "**Figure 1**\n",
    "\n",
    "\n",
    "We compare cosine similarites of samples when they are passing through layers of a random BN and vanilla netwoks. Given weights $W_\\ell$ with i.i.d. Gaussian elements, representations in layers of a BN obey \n",
    "$$ H_{\\ell+1} = \\frac{1}{\\sqrt{d}} BN(W_{\\ell} H_{\\ell}), \\quad BN(M) = \\text{diag}(M M^\\top)^{-\\frac{1}{2}} M$$\n",
    "While for a vanilla network they obey \n",
    "$$H_{\\ell+1} = W_{\\ell} H_{\\ell}$$\n",
    "\n",
    "\n"
   ]
  },
  {
   "cell_type": "code",
   "execution_count": 3,
   "metadata": {},
   "outputs": [],
   "source": [
    "## Figure 1. a.\n",
    "ds = [32,512] # width (d)\n",
    "results=[] # all cosine similaries for indepdent runs and different networks\n",
    "cols = {}\n",
    "cols[ds[0]] = 'r'\n",
    "cols[ds[1]] = 'b'\n",
    "n = 2\n",
    "num_repeat = 20 # number of indepdent runs\n",
    "pivot = np.ones(2)/math.sqrt(2)\n",
    "eps = 0.001\n",
    "D = [] # this array containts the layer index\n",
    "num_layers = 50 # number of layers \n",
    "d = 32 # width \n",
    "for k in range(num_repeat):\n",
    "    Vbn = [] # absolute value of cosine similairties in different layers of a vanill network \n",
    "    Vv = [] # absolute value of cosine similairties in different layers of a vanill network \n",
    "    H = np.zeros((d,n)) # hidden representations for a BN network\n",
    "    H[0,0] = 1 \n",
    "    H[0,1] = 1-eps\n",
    "    H[1,1] = eps\n",
    "    H2 = np.zeros((d,n))# hidden representations for a vanilla networks \n",
    "    H2[0,0] = 1 \n",
    "    H2[0,1] = 0\n",
    "    H2[1,1] = 1\n",
    "    for i in range(num_layers):\n",
    "        Vbn.append(np.abs(np.dot(H[:,0],H[:,1])/(np.linalg.norm(H[:,0])*np.linalg.norm(H[:,1])))) # cosine similairty for BN\n",
    "        Vv.append(np.abs(np.dot(H2[:,0],H2[:,1])/(np.linalg.norm(H2[:,0])*np.linalg.norm(H2[:,1])))) # cosine similarity for vanilla \n",
    "        D.append(i+1)\n",
    "        W = np.random.randn(d,d) # random weights \n",
    "        H = W @ H \n",
    "        H2 = W @ H2\n",
    "        H2 = H2\n",
    "        norms = np.linalg.norm(H,axis=1) \n",
    "        H = (H.T/norms).T/math.sqrt(d)    # normalization in BN\n",
    "    run_dict={'run_id': np.ones(len(Vbn),dtype=np.int8)*k,'Abs. Cos.':Vbn,'Vanilla':Vv}\n",
    "    results.append(pd.DataFrame(run_dict))\n",
    "results=pd.concat(results)"
   ]
  },
  {
   "cell_type": "code",
   "execution_count": 4,
   "metadata": {},
   "outputs": [
    {
     "data": {
      "image/png": "[encoded data removed]",
      "text/plain": [
       "<Figure size 432x288 with 1 Axes>"
      ]
     },
     "metadata": {
      "needs_background": "light"
     },
     "output_type": "display_data"
    }
   ],
   "source": [
    "p1 = sns.lineplot(data=results,x=D,y=\"Abs. Cos.\",  marker = 'o', ci=95,color='red',label='BN')\n",
    "p2 = sns.lineplot(data=results,x=D,y=\"Vanilla\",  marker='s',ci=95,color='blue',label='Vanilla')\n",
    "#p1.set(xlabel='Layer',fontsize=15)\n",
    "p1.set_xlabel('Layer', fontsize=15)\n",
    "p1.set_ylabel('Absolute Cosine Similarity',fontsize=15)\n",
    "fig = p2.get_figure()\n",
    "fig.savefig('warmup.pdf',format='pdf')"
   ]
  },
  {
   "cell_type": "markdown",
   "metadata": {},
   "source": [
    "**Figure 2. a.**\n",
    "\n",
    "For hidden representations $H_\\ell$, the orthogonality gap is defined as \n",
    "\n",
    "$$V(H_\\ell) := \\| H_\\ell^\\top H_\\ell - I_n/n\\|_F$$\n",
    "we compute $V(H_\\ell)$ across layers $\\ell$"
   ]
  },
  {
   "cell_type": "code",
   "execution_count": 5,
   "metadata": {},
   "outputs": [],
   "source": [
    "## Figure 2.a\n",
    "ds = [32,512] # network width\n",
    "n = 4 # number of samples \n",
    "num_repeat = 20 # number of indepdent runs \n",
    "\n",
    "I = np.eye(n) # identity matrix \n",
    "Result = [] # all the orthogonality gaps across layers for indepdent runs \n",
    "for d in ds:\n",
    "    res = [] \n",
    "    num_layers = 50 \n",
    "    for k in range(num_repeat):\n",
    "        H = np.zeros((d,n))\n",
    "        for i in range(n): \n",
    "            H[i,i] = 0.000001\n",
    "        H[0,0] = 1 \n",
    "        Vs = np.zeros(num_layers)\n",
    "        for i in range(num_layers):\n",
    "            W = np.random.randn(d,d)\n",
    "            H = W @ H \n",
    "            norms = np.linalg.norm(H,axis=1)\n",
    "            H = (H.T/norms).T/math.sqrt(d)\n",
    "            Vs[i] = np.log(np.linalg.norm(H.T @ H-I/n))\n",
    "        res.append(Vs)\n",
    "    Result.append(res)\n",
    "    labeli = 'd=%d' % d\n"
   ]
  },
  {
   "cell_type": "code",
   "execution_count": 6,
   "metadata": {},
   "outputs": [
    {
     "data": {
      "image/png": "[encoded data removed]",
      "text/plain": [
       "<Figure size 432x288 with 1 Axes>"
      ]
     },
     "metadata": {
      "needs_background": "light"
     },
     "output_type": "display_data"
    }
   ],
   "source": [
    "results=[]\n",
    "\n",
    "D = []\n",
    "for i in range(num_repeat):\n",
    "\n",
    "    run_dict={'run_id': np.ones(num_layers,dtype=np.int8)*i,'orthogonality gap':Result[0][i],'err':Result[1][i]}\n",
    "    for i in range(num_layers): \n",
    "        D.append(i)\n",
    "    results.append(pd.DataFrame(run_dict))\n",
    "    \n",
    "results=pd.concat(results)\n",
    "\n",
    "p1 = sns.lineplot(data=results,x=D,y=\"orthogonality gap\", label='d=32', marker = 'o', ci=95,color='blue')\n",
    "p1 = sns.lineplot(data=results,x=D,y=\"err\",label='d=512',  marker='s',ci=95,color='red')\n",
    "p1.set_xlabel('Layer', fontsize=15)\n",
    "p1.set_ylabel('Orthogonality Gap',fontsize=15)\n",
    "fig = p1.get_figure()\n",
    "fig.savefig('gaps_depth_bn.pdf',format='pdf')"
   ]
  },
  {
   "cell_type": "markdown",
   "metadata": {},
   "source": [
    "**Figure 2.b.**\n",
    "\n",
    "\n",
    "We compute the average of $V(H_\\ell)$ over 500 layers and plot it change for different network width"
   ]
  },
  {
   "cell_type": "code",
   "execution_count": null,
   "metadata": {},
   "outputs": [
    {
     "name": "stdout",
     "output_type": "stream",
     "text": [
      "d= 16\n",
      "d= 32\n",
      "d= 64\n",
      "d= 128\n",
      "d= 256\n",
      "d= 512\n"
     ]
    }
   ],
   "source": [
    "## Figure 1. a.\n",
    "ds = [16,32,64,128,256,512] # widths\n",
    "n = 4\n",
    "num_repeat = 20 \n",
    "I = np.eye(n) # identity matrix \n",
    "pivot = np.ones(2)/math.sqrt(2)\n",
    "avgs = []\n",
    "Results = []\n",
    "for d in ds:\n",
    "    print('d=',d)\n",
    "    num_layers = 500 \n",
    "    res = []\n",
    "    for k in range(num_repeat):\n",
    "        H = np.zeros((d,n))\n",
    "        for i in range(n): \n",
    "            H[i,i] = 0.000001\n",
    "        H[0,0] = 1 \n",
    "        Vs = np.zeros(num_layers)\n",
    "        for i in range(num_layers):\n",
    "            W = np.random.randn(d,d)\n",
    "            H = W @ H \n",
    "            norms = np.linalg.norm(H,axis=1)\n",
    "            H = (H.T/norms).T/math.sqrt(d)\n",
    "            Vs[i] = Vs[i] + np.linalg.norm(H.T @ H-I/n)/num_repeat \n",
    "        res.append(np.mean(Vs))\n",
    "    Results.append(res)\n",
    "arrayres = np.asarray(Results)\n",
    "# ploting \n",
    "results=[]\n",
    "R = []\n",
    "D = []\n",
    "for i in range(num_repeat):\n",
    "\n",
    "    run_dict={'run_id': np.ones(len(ds),dtype=np.int8)*i,'log(avg. orthogonality gap)':np.log(arrayres[:,i])}\n",
    "    for d in ds: \n",
    "        D.append(np.log(d))\n",
    "    results.append(pd.DataFrame(run_dict))\n",
    "    \n",
    "results=pd.concat(results)\n",
    "\n",
    "p1 = sns.lineplot(data=results,x=D,y=\"log(avg. orthogonality gap)\", marker = 'o', ci=95,color='blue')\n",
    "p1.set_xlabel('Log(width)', fontsize=15)\n",
    "p1.set_ylabel('Log(avg. orthogonality gap)',fontsize=15)\n",
    "fig = p1.get_figure()\n",
    "fig.savefig('gaps_width_bn.pdf',format='pdf')"
   ]
  },
  {
   "cell_type": "markdown",
   "metadata": {},
   "source": [
    "**Figure 6.**\n",
    "\n",
    "This experiment validate the conjucture in appendix for different type of non-linearities"
   ]
  },
  {
   "cell_type": "code",
   "execution_count": null,
   "metadata": {},
   "outputs": [],
   "source": [
    "def get_covariance(act,d,n,num_layer = 5000):\n",
    "    H = np.random.randn(d,n)\n",
    "    K = np.zeros((n,n))\n",
    "    for i in range(num_layer):\n",
    "        W = np.random.randn(d,d)\n",
    "        H = W @ act(H) \n",
    "        norms = np.linalg.norm(H,axis=1)\n",
    "        H = (H.T/norms).T\n",
    "        M = H.T @ H/d\n",
    "        V = np.linalg.norm(M-np.eye(n)/n)\n",
    "        K += M/num_layer\n",
    "    return K    \n",
    "\n",
    "\n",
    "def sigmoid(x):\n",
    "    return np.tanh(x)+1\n",
    "def relu(x):\n",
    "    return np.maximum(x,0)\n",
    "\n",
    "acts = [sigmoid,relu,np.tanh,np.sin]\n",
    "n = 4 \n",
    "ds = [16,32,64,128,256]\n",
    "num_layer = 1000\n",
    "AVG = []\n",
    "for act in acts: \n",
    "    print(act)\n",
    "    avgs = []\n",
    "    for d in ds: \n",
    "        print(d)\n",
    "        H = np.random.randn(d,n)\n",
    "        K = get_covariance(act,d,n)\n",
    "        avg =0\n",
    "        for i in range(num_layer):\n",
    "            W = np.random.randn(d,d)\n",
    "            H = W @ act(H) \n",
    "            norms = np.linalg.norm(H,axis=1)\n",
    "            H = (H.T/norms).T\n",
    "            M = H.T @ H/d\n",
    "        #     V = np.linalg.norm(M-np.eye(n)/n)\n",
    "            V = np.linalg.norm(M-K)\n",
    "            avg += V/num_layer\n",
    "        avgs.append(avg)\n",
    "    AVG.append(avgs)\n",
    "labels = ['sigmoid','relu','tanh','sin']\n",
    "for i in range(len(labels)):\n",
    "    avg= AVG[i]\n",
    "    plt.plot(np.log(ds),np.log(avgs),label=labels[i],LineWidth=2,marker='o')\n",
    "plt.legend()\n",
    "plt.xlabel('Log(d)',fontsize=15)\n",
    "plt.ylabel('Log(avg. L(Q))',fontsize=15)\n",
    "\n",
    "plt.savefig('activations.pdf',format='pdf')"
   ]
  },
  {
   "cell_type": "code",
   "execution_count": null,
   "metadata": {},
   "outputs": [],
   "source": [
    "for i in range(len(labels)):\n",
    "    avg= AVG[i]\n",
    "    plt.plot(np.log(ds),np.log(avgs),label=labels[i],LineWidth=2,marker='o')\n",
    "plt.legend()\n",
    "plt.xlabel('Log(d)',fontsize=15)\n",
    "plt.ylabel('Log(avg. L(Q))',fontsize=15)\n",
    "plt.savefig('activations.pdf',format='pdf')"
   ]
  },
  {
   "cell_type": "code",
   "execution_count": null,
   "metadata": {},
   "outputs": [],
   "source": []
  }
 ],
 "metadata": {
  "kernelspec": {
   "display_name": "Python 3",
   "language": "python",
   "name": "python3"
  },
  "language_info": {
   "codemirror_mode": {
    "name": "ipython",
    "version": 3
   },
   "file_extension": ".py",
   "mimetype": "text/x-python",
   "name": "python",
   "nbconvert_exporter": "python",
   "pygments_lexer": "ipython3",
   "version": "3.8.8"
  }
 },
 "nbformat": 4,
 "nbformat_minor": 4
}
