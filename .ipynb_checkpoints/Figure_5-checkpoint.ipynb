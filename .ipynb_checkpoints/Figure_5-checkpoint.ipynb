{
 "cells": [
  {
   "cell_type": "markdown",
   "metadata": {
    "id": "vW5jSXqy6h2F"
   },
   "source": [
    "# Experiments"
   ]
  },
  {
   "cell_type": "code",
   "execution_count": 1,
   "metadata": {
    "id": "Ov-0sX3iptLe"
   },
   "outputs": [],
   "source": [
    "import numpy as np \n",
    "import pandas as pd\n",
    "from matplotlib import pyplot as plt\n",
    "import torch \n",
    "import torch.nn as nn\n",
    "import torch.nn.init as init\n",
    "from torchvision import transforms, datasets\n",
    "import seaborn as sns\n",
    "from ipywidgets import interact\n",
    "from tqdm import tqdm\n",
    "\n",
    "import warnings\n",
    "warnings.filterwarnings('ignore')\n",
    "\n"
   ]
  },
  {
   "cell_type": "markdown",
   "metadata": {
    "id": "Flr1DDT2o84F"
   },
   "source": [
    "## Function definitions "
   ]
  },
  {
   "cell_type": "code",
   "execution_count": 5,
   "metadata": {
    "id": "a1VchyTHjk0f"
   },
   "outputs": [],
   "source": [
    "_global_data_dir = '.'\n",
    "\n",
    "def orthogonality_gap(H):\n",
    "    H = H.flatten(start_dim=1)\n",
    "    N = H.shape[0]\n",
    "    D = H.shape[1]\n",
    "    C = torch.matmul(H,H.transpose(0,1)) \n",
    "    C = C / torch.trace(C)\n",
    "    gap = torch.norm(C - torch.eye(N).to(C.device)/N, p='fro')\n",
    "    return gap\n",
    "    \n",
    "\n",
    "class ConvNet2D(torch.nn.Module):\n",
    "    def __init__(self, in_features, stride, norm_method, in_channels, hidden_channels, \n",
    "                 num_hidden_layers, out_features, kernel_size, init_method, \n",
    "                 nonlinearity, bias=False, padding_mode = 'reflect'):\n",
    "        super(ConvNet2D, self).__init__()\n",
    "        normalizations = { \n",
    "            'batchnorm': nn.BatchNorm2d,\n",
    "            'vanilla': nn.Identity,\n",
    "        }\n",
    "        padding = int(kernel_size / 2)\n",
    "\n",
    "        weight_init = initializations[init_method]\n",
    "        act = activations[nonlinearity]\n",
    "        norm = normalizations[norm_method]\n",
    "        channels = [in_channels] \n",
    "        ftrs = [in_features[0]]\n",
    "        for l in range(num_hidden_layers):\n",
    "            ftrs.append(int(np.ceil(ftrs[-1]/stride)))\n",
    "            if l == 0:\n",
    "                channels.append(hidden_channels)\n",
    "            else:\n",
    "                channels.append(int(channels[-1]*stride))   \n",
    "            \n",
    "        layers = []\n",
    "        for l in range(num_hidden_layers):\n",
    "            conv2d = nn.Conv2d(channels[l],channels[l+1], kernel_size, stride=stride,\n",
    "                            padding=padding, padding_mode=padding_mode, bias=bias)\n",
    "            weight_init(conv2d.weight, gain=init.calculate_gain('conv2d'))\n",
    "            layers.append(nn.Sequential( act(), conv2d, norm(channels[l+1]) ))\n",
    "\n",
    "        readout = nn.Linear(ftrs[-1] *ftrs[-1] * channels[-1], out_features)\n",
    "        weight_init(readout.weight, gain=init.calculate_gain('linear'))\n",
    "        self.readout = readout \n",
    "        self.layers = layers\n",
    "        self.seq = nn.Sequential(*layers)\n",
    "\n",
    "    def calc_gap(self, batches):\n",
    "        V = []\n",
    "        for x in batches:\n",
    "            H = x  \n",
    "            gap = []\n",
    "            for i,l in enumerate(self.layers):\n",
    "                gap.append(orthogonality_gap(H).cpu().data)\n",
    "                H = l(H)\n",
    "            gap = np.array(gap)\n",
    "            V.append(gap)\n",
    "        return np.array(V)     \n",
    "\n",
    "    def forward(self, x):\n",
    "        return self.readout(self.seq(x).flatten(start_dim=1))  \n",
    "    \n",
    "\n",
    "class MLP(torch.nn.Module):\n",
    "    def __init__(self, D_in, D, L, init_method, norm_method, nonlinearity):\n",
    "        super(MLP, self).__init__()\n",
    "\n",
    "        normalizations = { \n",
    "            'batchnorm': nn.BatchNorm1d,\n",
    "            'vanilla': nn.Identity,\n",
    "        }\n",
    "        \n",
    "        weight_init = initializations[init_method]\n",
    "        act = activations[nonlinearity]\n",
    "        norm = normalizations[norm_method]\n",
    "        widths = [D_in] + [D] * L\n",
    "        layers = []\n",
    "        for l in range(L):\n",
    "            lin = nn.Linear(widths[l],widths[l+1], bias=False)\n",
    "            weight_init(lin.weight, gain=init.calculate_gain(nonlinearity))\n",
    "            layers.append(nn.Sequential( act(), lin, norm(widths[l+1]) ))\n",
    "        self.layers = layers\n",
    "        self.seq = nn.Sequential(*layers)\n",
    "        \n",
    "    def forward(self, x):\n",
    "        self.seq(x)\n",
    "\n",
    "    def calc_gap(self, batches):\n",
    "        V = []\n",
    "        for x in batches:\n",
    "            H = x  \n",
    "            gap = [] \n",
    "            for l in self.layers:\n",
    "                gap.append(orthogonality_gap(H).cpu().data)\n",
    "                H = l(H)\n",
    "            gap = np.array(gap)\n",
    "            V.append(gap)\n",
    "            \n",
    "        return np.array(V)\n",
    "\n",
    "\n",
    "activations = {\n",
    "    'relu': nn.ReLU,\n",
    "    'sigmoid': nn.Sigmoid,\n",
    "    'tanh': nn.Tanh,\n",
    "    'linear': nn.Identity,\n",
    "}\n",
    "\n",
    "initializations = {\n",
    "    'xavier_uniform' : init.xavier_uniform_,\n",
    "    'xavier_normal' : init.xavier_normal_,\n",
    "    'kaiming_normal': init.kaiming_normal_,\n",
    "    'kaiming_uniform': init.kaiming_uniform_,\n",
    "}\n",
    "         \n",
    "\n",
    "def get_batches(N,D, source, num_batches, gap, batch_size):\n",
    "    transf = transforms.Compose([\n",
    "                             transforms.ToTensor(),\n",
    "                             transforms.Normalize((0.1307,), (0.3081,))])\n",
    "    batches = []\n",
    "    if source == 'MNIST':\n",
    "        D_in, in_channels = 28*28, 1\n",
    "        dataset = datasets.MNIST(_global_data_dir, download=True,train=True, transform=transf)\n",
    "        train_loader = torch.utils.data.DataLoader(dataset=dataset, batch_size=batch_size, shuffle=True)\n",
    "        it = iter(train_loader)\n",
    "        batches = [next(it)[0] for i in range(num_batches)]\n",
    "    elif source == 'CIFAR10':\n",
    "        dataset = datasets.CIFAR10(_global_data_dir, download=True, train=True, transform=transf)\n",
    "        train_loader = torch.utils.data.DataLoader(dataset=dataset, batch_size=batch_size, shuffle=True)\n",
    "        it = iter(train_loader)\n",
    "        batches = [next(it)[0] for i in range(num_batches)]\n",
    "    elif source=='random':\n",
    "        for i in range(num_batches):\n",
    "            H = torch.randn((N,D))\n",
    "            batches.append(H)\n",
    "        # enforce input orthonormality gap \n",
    "        for i, H in enumerate(batches):\n",
    "            C = torch.eye(D) * (1/D - gap/(D-1))\n",
    "            r = np.random.randint(D)\n",
    "            C[r,r] = (1/D+gap)\n",
    "            H = torch.matmul(H, C)\n",
    "            batches[i] = H.reshape(N,1,1,D)\n",
    "    elif source=='random2D':\n",
    "        D2 = D * D\n",
    "        for i in range(num_batches):\n",
    "            H = torch.randn((N,D2))\n",
    "            batches.append(H)\n",
    "        # enforce input orthonormality gap \n",
    "        for i, H in enumerate(batches):\n",
    "            C = torch.eye(D2) * (1/D2 - gap/(D2-1))\n",
    "            r = np.random.randint(D2)\n",
    "            C[r,r] = (1/D2+gap)\n",
    "            H = torch.matmul(H, C)\n",
    "            batches[i] = H.reshape(N, 1, D, D)\n",
    "\n",
    "    batches = torch.stack(batches)\n",
    "    return batches\n",
    "\n",
    "   "
   ]
  },
  {
   "cell_type": "code",
   "execution_count": 6,
   "metadata": {
    "id": "lSADgRG4v_ZT"
   },
   "outputs": [],
   "source": [
    "def default_mlp(batch_size=8, \n",
    "                hidden_width=100, \n",
    "                num_repeat=50, \n",
    "                input_orthogonality_gap=.5, \n",
    "                num_hidden_layers=30,\n",
    "                nonlinearity='relu',  norm_method='batchnorm', \n",
    "                init_method='xavier_normal', \n",
    "                data_source='CIFAR10'):\n",
    "    batches = get_batches(N=batch_size, \n",
    "           batch_size=batch_size,\n",
    "           source=data_source, \n",
    "           D=hidden_width, \n",
    "           num_batches=num_repeat, \n",
    "           gap=input_orthogonality_gap)\n",
    "    batches = batches.flatten(start_dim=2)\n",
    "    mlp = MLP(D_in = batches.shape[2], D=hidden_width, L=num_hidden_layers, init_method=init_method, \n",
    "                  norm_method=norm_method, nonlinearity=nonlinearity)\n",
    "    V = mlp.calc_gap(batches)\n",
    "    return V\n",
    "    \n",
    "    \n",
    "    \n",
    "def default_convnet(\n",
    "    stride=1, \n",
    "    in_features = 28,\n",
    "    batch_size = 8,\n",
    "    num_repeat = 50,      \n",
    "    out_features = 10,\n",
    "    hidden_channels = 100,\n",
    "    kernel_size = 3,\n",
    "    num_hidden_layers = 30,\n",
    "    input_orthogonality_gap = 0.3,\n",
    "    padding_mode = 'zero',\n",
    "    nonlinearity = 'relu',\n",
    "    norm_method = 'batchnorm',\n",
    "    init_method = 'xavier_normal',\n",
    "    data_source = 'CIFAR10',):\n",
    "    batches = get_batches(N=batch_size, \n",
    "            batch_size=batch_size,\n",
    "            source=data_source, \n",
    "            D=in_features, \n",
    "            num_batches=num_repeat, \n",
    "            gap=input_orthogonality_gap)\n",
    "\n",
    "    in_channels = batches[0].shape[1]\n",
    "    in_features = (batches[0].shape[2], batches[0].shape[3])\n",
    "    net = ConvNet2D(in_features=in_features, \n",
    "                    stride=stride,\n",
    "                    init_method = init_method,\n",
    "                    nonlinearity=nonlinearity,\n",
    "                    num_hidden_layers=num_hidden_layers,\n",
    "                    in_channels=in_channels, \n",
    "                    norm_method=norm_method,\n",
    "                    hidden_channels=hidden_channels, \n",
    "                    out_features=out_features,\n",
    "                    kernel_size=kernel_size) \n",
    "    V = net.calc_gap(batches)\n",
    "    return V"
   ]
  },
  {
   "cell_type": "markdown",
   "metadata": {
    "id": "GgtihS1vv_ZU"
   },
   "source": [
    "## Figures for the paper "
   ]
  },
  {
   "cell_type": "code",
   "execution_count": 7,
   "metadata": {
    "colab": {
     "base_uri": "https://localhost:8080/",
     "height": 404,
     "referenced_widgets": [
      "0f0707a0cd534beab32a866d959537e9",
      "1ef97942135e413c8adabf5b88550a3e",
      "5ed3c0b76e214f479f9df8bf245814dd",
      "8d8886389e474db6b00a57b57476b04e",
      "6beb32e8c74945fca343c6bb8f347247",
      "a541c864a9314c76b797eac825af4580",
      "dd0db8e5b37746bfa4f5bfc0b4e15065",
      "b0afe67ed2de439caafaa945b1a36612"
     ]
    },
    "id": "-zZUiOVJv_ZV",
    "outputId": "4764ae14-487e-46bb-9415-eb3ed3a8b9f2"
   },
   "outputs": [
    {
     "name": "stdout",
     "output_type": "stream",
     "text": [
      "Downloading https://www.cs.toronto.edu/~kriz/cifar-10-python.tar.gz to ./cifar-10-python.tar.gz\n"
     ]
    },
    {
     "data": {
      "application/vnd.jupyter.widget-view+json": {
       "model_id": "b174b73328f24a75b3edc6a5883fd462",
       "version_major": 2,
       "version_minor": 0
      },
      "text/plain": [
       "HBox(children=(HTML(value=''), FloatProgress(value=0.0, max=170498071.0), HTML(value='')))"
      ]
     },
     "metadata": {},
     "output_type": "display_data"
    },
    {
     "name": "stdout",
     "output_type": "stream",
     "text": [
      "\n",
      "Extracting ./cifar-10-python.tar.gz to .\n",
      "Files already downloaded and verified\n"
     ]
    },
    {
     "data": {
      "image/png": "[encoded data removed]",
      "text/plain": [
       "<Figure size 432x288 with 1 Axes>"
      ]
     },
     "metadata": {
      "needs_background": "light"
     },
     "output_type": "display_data"
    }
   ],
   "source": [
    "def paper_fig6a():\n",
    "    V = dict()\n",
    "    for norm_method in ['batchnorm', 'vanilla']:\n",
    "        vals = default_mlp(norm_method=norm_method, )\n",
    "        V.update( {(norm_method, i+1, l+1):[v] for i, batch in enumerate(vals) for l,v in enumerate(batch)} )\n",
    "    df = pd.DataFrame(V).transpose().reset_index()\n",
    "    df = pd.DataFrame(df.values, columns=['Normalization','batch','layer','gap'])\n",
    "\n",
    "    plt.figure()\n",
    "    df.layer = df.layer.astype(np.float32)\n",
    "    df.gap = df.gap.astype(np.float32)\n",
    "    g = sns.lineplot(df.layer, df.gap, hue=df.Normalization, ci='sd')\n",
    "    g.set(ylim=(0,1.1),xlim=(1,30))\n",
    "    g.set_xlabel(\"$\\ell$\",fontsize=13)\n",
    "    g.set_ylabel(\"$V(H_\\ell)$\",fontsize=13)\n",
    "    g.set_title(\"BN vs. Vanilla in MLP\", fontsize=13)\n",
    "    plt.savefig('Fig6A.pdf');\n",
    "    \n",
    "paper_fig6a();\n",
    "\n",
    "\n",
    "    "
   ]
  },
  {
   "cell_type": "code",
   "execution_count": null,
   "metadata": {
    "cellView": "form",
    "colab": {
     "base_uri": "https://localhost:8080/",
     "height": 335
    },
    "id": "6IyY9ONJ_eQR",
    "outputId": "9012e0d8-83bb-4673-eb3b-1bc5c5a399f3"
   },
   "outputs": [
    {
     "name": "stdout",
     "output_type": "stream",
     "text": [
      "Files already downloaded and verified\n"
     ]
    }
   ],
   "source": [
    "def paper_fig6b():\n",
    "    V = dict()\n",
    "    for norm_method in ['batchnorm', 'vanilla']:\n",
    "        vals = default_convnet(norm_method=norm_method)\n",
    "        V.update( {(norm_method, i+1, l+1):[v] for i, batch in enumerate(vals) for l,v in enumerate(batch)} )\n",
    "\n",
    "    df = pd.DataFrame(V).transpose().reset_index()\n",
    "    df = pd.DataFrame(df.values, columns=['Normalization','batch','layer','gap'])\n",
    "\n",
    "    plt.figure()\n",
    "    df.layer = df.layer.astype(np.float32)\n",
    "    df.gap = df.gap.astype(np.float32)\n",
    "    g = sns.lineplot(df.layer, df.gap, hue=df.Normalization, ci='sd')\n",
    "    g.set(ylim=(0,1.1),xlim=(1,30));\n",
    "    g.set_xlabel(\"$\\ell$\",fontsize=13)\n",
    "    g.set_ylabel(\"$V(H_\\ell)$\",fontsize=13)\n",
    "    g.set_title(\"BN vs. Vanilla in MLP\", fontsize=13)\n",
    "    g.set(title=\"BN vs. Vanilla in ConvNet\")\n",
    "    plt.savefig('Fig6B.pdf');    \n",
    "paper_fig6b();\n"
   ]
  },
  {
   "cell_type": "code",
   "execution_count": null,
   "metadata": {
    "id": "bHMLPgJav_Za"
   },
   "outputs": [],
   "source": []
  },
  {
   "cell_type": "code",
   "execution_count": null,
   "metadata": {
    "id": "0sdFzNLgv_Zc"
   },
   "outputs": [],
   "source": []
  }
 ],
 "metadata": {
  "accelerator": "GPU",
  "colab": {
   "collapsed_sections": [],
   "name": "for_neurIPS_sanitized.ipynb",
   "provenance": []
  },
  "kernelspec": {
   "display_name": "Python 3",
   "language": "python",
   "name": "python3"
  },
  "language_info": {
   "codemirror_mode": {
    "name": "ipython",
    "version": 3
   },
   "file_extension": ".py",
   "mimetype": "text/x-python",
   "name": "python",
   "nbconvert_exporter": "python",
   "pygments_lexer": "ipython3",
   "version": "3.8.8"
  },
  "widgets": {
   "application/vnd.jupyter.widget-state+json": {
    "0f0707a0cd534beab32a866d959537e9": {
     "model_module": "@jupyter-widgets/controls",
     "model_name": "HBoxModel",
     "state": {
      "_dom_classes": [],
      "_model_module": "@jupyter-widgets/controls",
      "_model_module_version": "1.5.0",
      "_model_name": "HBoxModel",
      "_view_count": null,
      "_view_module": "@jupyter-widgets/controls",
      "_view_module_version": "1.5.0",
      "_view_name": "HBoxView",
      "box_style": "",
      "children": [
       "IPY_MODEL_5ed3c0b76e214f479f9df8bf245814dd",
       "IPY_MODEL_8d8886389e474db6b00a57b57476b04e"
      ],
      "layout": "IPY_MODEL_1ef97942135e413c8adabf5b88550a3e"
     }
    },
    "1ef97942135e413c8adabf5b88550a3e": {
     "model_module": "@jupyter-widgets/base",
     "model_name": "LayoutModel",
     "state": {
      "_model_module": "@jupyter-widgets/base",
      "_model_module_version": "1.2.0",
      "_model_name": "LayoutModel",
      "_view_count": null,
      "_view_module": "@jupyter-widgets/base",
      "_view_module_version": "1.2.0",
      "_view_name": "LayoutView",
      "align_content": null,
      "align_items": null,
      "align_self": null,
      "border": null,
      "bottom": null,
      "display": null,
      "flex": null,
      "flex_flow": null,
      "grid_area": null,
      "grid_auto_columns": null,
      "grid_auto_flow": null,
      "grid_auto_rows": null,
      "grid_column": null,
      "grid_gap": null,
      "grid_row": null,
      "grid_template_areas": null,
      "grid_template_columns": null,
      "grid_template_rows": null,
      "height": null,
      "justify_content": null,
      "justify_items": null,
      "left": null,
      "margin": null,
      "max_height": null,
      "max_width": null,
      "min_height": null,
      "min_width": null,
      "object_fit": null,
      "object_position": null,
      "order": null,
      "overflow": null,
      "overflow_x": null,
      "overflow_y": null,
      "padding": null,
      "right": null,
      "top": null,
      "visibility": null,
      "width": null
     }
    },
    "5ed3c0b76e214f479f9df8bf245814dd": {
     "model_module": "@jupyter-widgets/controls",
     "model_name": "FloatProgressModel",
     "state": {
      "_dom_classes": [],
      "_model_module": "@jupyter-widgets/controls",
      "_model_module_version": "1.5.0",
      "_model_name": "FloatProgressModel",
      "_view_count": null,
      "_view_module": "@jupyter-widgets/controls",
      "_view_module_version": "1.5.0",
      "_view_name": "ProgressView",
      "bar_style": "success",
      "description": "",
      "description_tooltip": null,
      "layout": "IPY_MODEL_a541c864a9314c76b797eac825af4580",
      "max": 170498071,
      "min": 0,
      "orientation": "horizontal",
      "style": "IPY_MODEL_6beb32e8c74945fca343c6bb8f347247",
      "value": 170498071
     }
    },
    "6beb32e8c74945fca343c6bb8f347247": {
     "model_module": "@jupyter-widgets/controls",
     "model_name": "ProgressStyleModel",
     "state": {
      "_model_module": "@jupyter-widgets/controls",
      "_model_module_version": "1.5.0",
      "_model_name": "ProgressStyleModel",
      "_view_count": null,
      "_view_module": "@jupyter-widgets/base",
      "_view_module_version": "1.2.0",
      "_view_name": "StyleView",
      "bar_color": null,
      "description_width": "initial"
     }
    },
    "8d8886389e474db6b00a57b57476b04e": {
     "model_module": "@jupyter-widgets/controls",
     "model_name": "HTMLModel",
     "state": {
      "_dom_classes": [],
      "_model_module": "@jupyter-widgets/controls",
      "_model_module_version": "1.5.0",
      "_model_name": "HTMLModel",
      "_view_count": null,
      "_view_module": "@jupyter-widgets/controls",
      "_view_module_version": "1.5.0",
      "_view_name": "HTMLView",
      "description": "",
      "description_tooltip": null,
      "layout": "IPY_MODEL_b0afe67ed2de439caafaa945b1a36612",
      "placeholder": "​",
      "style": "IPY_MODEL_dd0db8e5b37746bfa4f5bfc0b4e15065",
      "value": " 170499072/? [00:15&lt;00:00, 10744425.87it/s]"
     }
    },
    "a541c864a9314c76b797eac825af4580": {
     "model_module": "@jupyter-widgets/base",
     "model_name": "LayoutModel",
     "state": {
      "_model_module": "@jupyter-widgets/base",
      "_model_module_version": "1.2.0",
      "_model_name": "LayoutModel",
      "_view_count": null,
      "_view_module": "@jupyter-widgets/base",
      "_view_module_version": "1.2.0",
      "_view_name": "LayoutView",
      "align_content": null,
      "align_items": null,
      "align_self": null,
      "border": null,
      "bottom": null,
      "display": null,
      "flex": null,
      "flex_flow": null,
      "grid_area": null,
      "grid_auto_columns": null,
      "grid_auto_flow": null,
      "grid_auto_rows": null,
      "grid_column": null,
      "grid_gap": null,
      "grid_row": null,
      "grid_template_areas": null,
      "grid_template_columns": null,
      "grid_template_rows": null,
      "height": null,
      "justify_content": null,
      "justify_items": null,
      "left": null,
      "margin": null,
      "max_height": null,
      "max_width": null,
      "min_height": null,
      "min_width": null,
      "object_fit": null,
      "object_position": null,
      "order": null,
      "overflow": null,
      "overflow_x": null,
      "overflow_y": null,
      "padding": null,
      "right": null,
      "top": null,
      "visibility": null,
      "width": null
     }
    },
    "b0afe67ed2de439caafaa945b1a36612": {
     "model_module": "@jupyter-widgets/base",
     "model_name": "LayoutModel",
     "state": {
      "_model_module": "@jupyter-widgets/base",
      "_model_module_version": "1.2.0",
      "_model_name": "LayoutModel",
      "_view_count": null,
      "_view_module": "@jupyter-widgets/base",
      "_view_module_version": "1.2.0",
      "_view_name": "LayoutView",
      "align_content": null,
      "align_items": null,
      "align_self": null,
      "border": null,
      "bottom": null,
      "display": null,
      "flex": null,
      "flex_flow": null,
      "grid_area": null,
      "grid_auto_columns": null,
      "grid_auto_flow": null,
      "grid_auto_rows": null,
      "grid_column": null,
      "grid_gap": null,
      "grid_row": null,
      "grid_template_areas": null,
      "grid_template_columns": null,
      "grid_template_rows": null,
      "height": null,
      "justify_content": null,
      "justify_items": null,
      "left": null,
      "margin": null,
      "max_height": null,
      "max_width": null,
      "min_height": null,
      "min_width": null,
      "object_fit": null,
      "object_position": null,
      "order": null,
      "overflow": null,
      "overflow_x": null,
      "overflow_y": null,
      "padding": null,
      "right": null,
      "top": null,
      "visibility": null,
      "width": null
     }
    },
    "dd0db8e5b37746bfa4f5bfc0b4e15065": {
     "model_module": "@jupyter-widgets/controls",
     "model_name": "DescriptionStyleModel",
     "state": {
      "_model_module": "@jupyter-widgets/controls",
      "_model_module_version": "1.5.0",
      "_model_name": "DescriptionStyleModel",
      "_view_count": null,
      "_view_module": "@jupyter-widgets/base",
      "_view_module_version": "1.2.0",
      "_view_name": "StyleView",
      "description_width": ""
     }
    }
   }
  }
 },
 "nbformat": 4,
 "nbformat_minor": 1
}
