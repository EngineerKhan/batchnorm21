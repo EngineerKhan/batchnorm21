{
 "cells": [
  {
   "cell_type": "markdown",
   "metadata": {
    "id": "dCqpeEVNImBz"
   },
   "source": [
    "This code generates **Figure 7**"
   ]
  },
  {
   "cell_type": "code",
   "execution_count": 1,
   "metadata": {
    "id": "OAQwi-EHroP4"
   },
   "outputs": [],
   "source": [
    "import torch\n",
    "import torch\n",
    "import torchvision\n",
    "import torchvision.transforms as transforms\n",
    "import numpy as np\n",
    "import scipy as sc\n",
    "from matplotlib import pyplot as plt\n",
    "import torch.nn as nn"
   ]
  },
  {
   "cell_type": "code",
   "execution_count": 2,
   "metadata": {
    "colab": {
     "base_uri": "https://localhost:8080/"
    },
    "id": "kf3mhKg1JGYC",
    "outputId": "b0fc281a-0567-4c40-b8f3-fa10f9e42f9f"
   },
   "outputs": [],
   "source": [
    "# !nvidia-smi --query-gpu=gpu_name,driver_version,memory.total --format=csv"
   ]
  },
  {
   "cell_type": "code",
   "execution_count": 3,
   "metadata": {
    "colab": {
     "base_uri": "https://localhost:8080/",
     "height": 100,
     "referenced_widgets": [
      "1d2e9de93e914aad87f8b5b3834cf7e9",
      "1a28c279c37541a0bd1ebee7dd093cf4",
      "a9c7574f7269494b828fc791ae347a1c",
      "b34934a9dfea430d9bc4100a376496f6",
      "fa6941aa382f48979c08291723d244e2",
      "c398ab9408c94279806243f9100e447e",
      "3c483155b0d546d88a248807f9fa2d9e",
      "21e06bfaec6642f4b56d78ef15884aed"
     ]
    },
    "id": "eG_gGxuP6Tvl",
    "outputId": "7f9ea9ec-b1bf-4aaa-aac4-0426a977f7db"
   },
   "outputs": [
    {
     "name": "stdout",
     "output_type": "stream",
     "text": [
      "Downloading https://www.cs.toronto.edu/~kriz/cifar-10-python.tar.gz to CIFAR/cifar-10-python.tar.gz\n"
     ]
    },
    {
     "data": {
      "application/vnd.jupyter.widget-view+json": {
       "model_id": "a4810e970d1e4c928529b3cc56fc2fbd",
       "version_major": 2,
       "version_minor": 0
      },
      "text/plain": [
       "  0%|          | 0/170498071 [00:00<?, ?it/s]"
      ]
     },
     "metadata": {},
     "output_type": "display_data"
    },
    {
     "name": "stdout",
     "output_type": "stream",
     "text": [
      "Extracting CIFAR/cifar-10-python.tar.gz to CIFAR\n"
     ]
    }
   ],
   "source": [
    "min_batch_size = 30\n",
    " #transforms.Normalize((0.1307,), (0.3081,))\n",
    "transform = transforms.Compose(\n",
    "    [transforms.ToTensor()])\n",
    "train_dataset = torchvision.datasets.CIFAR10(root='CIFAR', train=True,\n",
    "                                        download=True, transform=transform)\n",
    "train_loader = torch.utils.data.DataLoader(train_dataset, batch_size=min_batch_size,\n",
    "                                          shuffle=True, num_workers=1)"
   ]
  },
  {
   "cell_type": "code",
   "execution_count": 4,
   "metadata": {
    "id": "DOV3c0HZ6VnZ"
   },
   "outputs": [],
   "source": [
    "dtype = torch.cuda.FloatTensor\n",
    "dtype_labels = torch.cuda.LongTensor"
   ]
  },
  {
   "cell_type": "code",
   "execution_count": 5,
   "metadata": {
    "id": "wl7C45aH6jeX"
   },
   "outputs": [],
   "source": [
    "import torch.nn as nn\n",
    "class AlexNet(torch.nn.Module):\n",
    "    def __init__(self, output_dim,num_layers = 0,level = 3, withbn = False):\n",
    "        super().__init__()\n",
    "        filters = [64, 192 , 385, 256, 256 ]\n",
    "        layers = []\n",
    "        layers += [nn.Conv2d(3, 64, 3, 2, 1)] #in_channels, out_channels, kernel_size, stride, padding\n",
    "        layers += [nn.MaxPool2d(2)] #kernel_size\n",
    "        layers += [nn.ReLU(inplace = True)]\n",
    "        layers += [nn.Conv2d(64, 192, 3, padding = 1)]\n",
    "        layers += [nn.MaxPool2d(2)]\n",
    "        layers += [nn.ReLU(inplace = True)]\n",
    "        # -----------\n",
    "        layers += [nn.Conv2d(192, 192, 3, padding = 1)]\n",
    "        layers += [nn.ReLU(inplace = True)]\n",
    "        if level == 2: \n",
    "          for i in range(num_layers):\n",
    "            layers += [nn.Conv2d(192, 192, 3, padding = 1,bias=False),nn.ReLU(inplace=True)]\n",
    "            if withbn:\n",
    "              layers += [nn.BatchNorm2d(192)]\n",
    "        # ------------\n",
    "        layers += [nn.Conv2d(192, 256, 3, padding = 1)]\n",
    "        layers += [nn.Conv2d(256, 256, 3, padding = 1),nn.ReLU(inplace=True)]\n",
    "        if level == 3: \n",
    "          for i in range(num_layers):\n",
    "            layers += [nn.Conv2d(256, 256, 3, padding = 1),nn.ReLU(inplace=True)]\n",
    "            if withbn:\n",
    "              layers += [nn.BatchNorm2d(256)]\n",
    "            \n",
    "        layers += [nn.MaxPool2d(2)]\n",
    "        layers += [nn.ReLU(inplace = True)]\n",
    "        self.features = nn.Sequential(*layers)\n",
    "        \n",
    "        self.classifier = nn.Sequential(\n",
    "            nn.Dropout(0.5),\n",
    "            nn.Linear(1024, 4*1024),\n",
    "            nn.ReLU(inplace = True),\n",
    "            nn.Dropout(0.5),\n",
    "            nn.Linear(4*1024, 4*1024),\n",
    "            nn.ReLU(inplace = True),\n",
    "            nn.Linear(4*1024, output_dim),\n",
    "        )\n",
    "\n",
    "    def forward(self, x):\n",
    "        x = self.features(x)\n",
    "        h = x.view(x.shape[0], -1)\n",
    "        x = self.classifier(h)\n",
    "        return x\n",
    "    def forward_noclassi(self, x):\n",
    "        x = self.features(x)\n",
    "        h = x.view(x.shape[0], -1)\n",
    "        return h\n",
    "def weights_init(m):\n",
    "    if isinstance(m, torch.nn.Linear):\n",
    "        torch.nn.init.xavier_uniform_(m.weight,gain=torch.nn.init.calculate_gain('relu'))\n",
    "        if m.bias is not None:\n",
    "            m.bias.data.fill_(0)\n",
    "    if isinstance(m, torch.nn.Conv2d):\n",
    "        torch.nn.init.xavier_uniform_(m.weight,gain=torch.nn.init.calculate_gain('relu'))\n",
    "        if m.bias is not None:\n",
    "            m.bias.data.fill_(0)"
   ]
  },
  {
   "cell_type": "code",
   "execution_count": 6,
   "metadata": {
    "id": "yULi_YB27iGB"
   },
   "outputs": [],
   "source": [
    "def train(net,epoch_num = 10,stepsize = 0.01):\n",
    "    criterion = nn.CrossEntropyLoss(size_average=True)\n",
    "    opt= torch.optim.SGD(net.parameters(), lr=stepsize)\n",
    "    output = []\n",
    "    num_total = len(train_dataset.targets) \n",
    "    for j in range(epoch_num):\n",
    "        loss_epoch = 0\n",
    "        for i, data in enumerate(train_loader): \n",
    "            x, y = data\n",
    "            x = x.type(dtype)\n",
    "            y = y.type(dtype_labels)\n",
    "            \n",
    "            opt.zero_grad()\n",
    "            outx = net.forward(x)\n",
    "            loss = criterion(outx, y)\n",
    "            loss.backward()\n",
    "            loss_epoch += loss.item()*min_batch_size/num_total\n",
    "            # if i % 1000 ==0:\n",
    "            #     print(i)\n",
    "            opt.step()\n",
    "        print(loss_epoch)\n",
    "        output.append(loss_epoch)\n",
    "    return output\n",
    "    "
   ]
  },
  {
   "cell_type": "markdown",
   "metadata": {
    "id": "Wu6kV587I9KQ"
   },
   "source": [
    "The following function extend the svd based initialization to convolutional networks. When samples are pass throught the network layers. We use SVD decomposition of hidden representations to recurrently initialize the weights through the layers.   "
   ]
  },
  {
   "cell_type": "code",
   "execution_count": 7,
   "metadata": {
    "id": "kcho4VL3-OKB"
   },
   "outputs": [],
   "source": [
    "def novel_initialization(anet_im): # the input is a network \n",
    "  # picks a batch of samples\n",
    "  bs = 256\n",
    "  train_loader2 = torch.utils.data.DataLoader(train_dataset, batch_size=bs,\n",
    "                                            shuffle=True, num_workers=1)\n",
    "  dataiter = iter(train_loader2)\n",
    "  images, labels = dataiter.next()\n",
    "  images = images.type(dtype)\n",
    "  out = anet_im.forward_noclassi(images)\n",
    "  M = out.t().mm(out)\n",
    "  print(torch.norm(M)/torch.trace(M))\n",
    "  x = images\n",
    "  steps = 1200\n",
    "  for unit in anet_im.features:\n",
    "    if isinstance(unit,nn.Conv2d): \n",
    "      if unit.in_channels == unit.out_channels: \n",
    "          zp = torch.nn.ZeroPad2d(unit.padding[0])\n",
    "          input = x.data\n",
    "          print(input.size())\n",
    "          input = zp(input)\n",
    "          w = unit.weight\n",
    "          d2 = input.size(2)\n",
    "          d3 = input.size(3)\n",
    "          ### here we reshape representations to implemnet the convolution using matrix multiplication \n",
    "          inp_unf = torch.nn.functional.unfold(input,kernel_size=unit.kernel_size,stride=unit.stride)\n",
    "          inp_unf_size = inp_unf.size()\n",
    "          inp_unf = inp_unf.transpose(1,2)\n",
    "          inp_unf = inp_unf.reshape(inp_unf.size(0)*inp_unf.size(1),inp_unf.size(2))\n",
    "          ### svd decomposition of the reshaped representations \n",
    "          u,s,v = torch.svd(inp_unf) \n",
    "          wd = w.view(w.size(0), -1).t().size(1)\n",
    "          w1 = u[0:wd,0:wd].mm(torch.diag(1/torch.pow(s[0:wd],0.5))).mm(v.t()[0:wd,:])\n",
    "          unit.weight.data = w1.reshape(w.size())\n",
    "          unit.weight.data = unit.weight.data/torch.norm(unit.forward(x))\n",
    "          print(torch.norm(unit.weight.data))\n",
    "    x = unit(x)\n",
    "    H = x.flatten(1)\n",
    "    M = H.mm(H.t())\n",
    "    # print(torch.norm(M)/torch.trace(M))\n",
    "    # print('=======')\n",
    "  out = anet_im.forward_noclassi(images)\n",
    "  M = out.t().mm(out)\n",
    "  print(torch.norm(M)/torch.trace(M))\n",
    "  return anet_im"
   ]
  },
  {
   "cell_type": "code",
   "execution_count": 8,
   "metadata": {
    "id": "PDdjwkU59hx0"
   },
   "outputs": [
    {
     "name": "stdout",
     "output_type": "stream",
     "text": [
      "15 ============\n"
     ]
    },
    {
     "ename": "AssertionError",
     "evalue": "Torch not compiled with CUDA enabled",
     "output_type": "error",
     "traceback": [
      "\u001b[0;31m---------------------------------------------------------------------------\u001b[0m",
      "\u001b[0;31mAssertionError\u001b[0m                            Traceback (most recent call last)",
      "\u001b[0;32m<ipython-input-8-858785550974>\u001b[0m in \u001b[0;36m<module>\u001b[0;34m\u001b[0m\n\u001b[1;32m     12\u001b[0m     \u001b[0mprint\u001b[0m\u001b[0;34m(\u001b[0m\u001b[0mlayer\u001b[0m\u001b[0;34m,\u001b[0m\u001b[0;34m'============'\u001b[0m\u001b[0;34m)\u001b[0m\u001b[0;34m\u001b[0m\u001b[0;34m\u001b[0m\u001b[0m\n\u001b[1;32m     13\u001b[0m     \u001b[0manet\u001b[0m \u001b[0;34m=\u001b[0m \u001b[0mAlexNet\u001b[0m\u001b[0;34m(\u001b[0m\u001b[0;36m10\u001b[0m\u001b[0;34m,\u001b[0m\u001b[0mnum_layers\u001b[0m\u001b[0;34m=\u001b[0m\u001b[0mlayer\u001b[0m\u001b[0;34m,\u001b[0m\u001b[0mwithbn\u001b[0m \u001b[0;34m=\u001b[0m \u001b[0;32mFalse\u001b[0m\u001b[0;34m)\u001b[0m\u001b[0;34m\u001b[0m\u001b[0;34m\u001b[0m\u001b[0m\n\u001b[0;32m---> 14\u001b[0;31m     \u001b[0manet\u001b[0m \u001b[0;34m=\u001b[0m \u001b[0manet\u001b[0m\u001b[0;34m.\u001b[0m\u001b[0mcuda\u001b[0m\u001b[0;34m(\u001b[0m\u001b[0;34m)\u001b[0m\u001b[0;34m\u001b[0m\u001b[0;34m\u001b[0m\u001b[0m\n\u001b[0m\u001b[1;32m     15\u001b[0m     \u001b[0manet\u001b[0m \u001b[0;34m=\u001b[0m \u001b[0manet\u001b[0m\u001b[0;34m.\u001b[0m\u001b[0mapply\u001b[0m\u001b[0;34m(\u001b[0m\u001b[0mweights_init\u001b[0m\u001b[0;34m)\u001b[0m\u001b[0;34m\u001b[0m\u001b[0;34m\u001b[0m\u001b[0m\n\u001b[1;32m     16\u001b[0m     \u001b[0mconv\u001b[0m \u001b[0;34m=\u001b[0m \u001b[0mtrain\u001b[0m\u001b[0;34m(\u001b[0m\u001b[0manet\u001b[0m\u001b[0;34m,\u001b[0m\u001b[0mepoch_num\u001b[0m\u001b[0;34m=\u001b[0m\u001b[0mepochs\u001b[0m\u001b[0;34m,\u001b[0m\u001b[0mstepsize\u001b[0m\u001b[0;34m=\u001b[0m\u001b[0mlr\u001b[0m\u001b[0;34m)\u001b[0m\u001b[0;34m\u001b[0m\u001b[0;34m\u001b[0m\u001b[0m\n",
      "\u001b[0;32m~/opt/anaconda3/lib/python3.8/site-packages/torch/nn/modules/module.py\u001b[0m in \u001b[0;36mcuda\u001b[0;34m(self, device)\u001b[0m\n\u001b[1;32m    678\u001b[0m             \u001b[0mModule\u001b[0m\u001b[0;34m:\u001b[0m \u001b[0mself\u001b[0m\u001b[0;34m\u001b[0m\u001b[0;34m\u001b[0m\u001b[0m\n\u001b[1;32m    679\u001b[0m         \"\"\"\n\u001b[0;32m--> 680\u001b[0;31m         \u001b[0;32mreturn\u001b[0m \u001b[0mself\u001b[0m\u001b[0;34m.\u001b[0m\u001b[0m_apply\u001b[0m\u001b[0;34m(\u001b[0m\u001b[0;32mlambda\u001b[0m \u001b[0mt\u001b[0m\u001b[0;34m:\u001b[0m \u001b[0mt\u001b[0m\u001b[0;34m.\u001b[0m\u001b[0mcuda\u001b[0m\u001b[0;34m(\u001b[0m\u001b[0mdevice\u001b[0m\u001b[0;34m)\u001b[0m\u001b[0;34m)\u001b[0m\u001b[0;34m\u001b[0m\u001b[0;34m\u001b[0m\u001b[0m\n\u001b[0m\u001b[1;32m    681\u001b[0m \u001b[0;34m\u001b[0m\u001b[0m\n\u001b[1;32m    682\u001b[0m     \u001b[0;32mdef\u001b[0m \u001b[0mxpu\u001b[0m\u001b[0;34m(\u001b[0m\u001b[0mself\u001b[0m\u001b[0;34m:\u001b[0m \u001b[0mT\u001b[0m\u001b[0;34m,\u001b[0m \u001b[0mdevice\u001b[0m\u001b[0;34m:\u001b[0m \u001b[0mOptional\u001b[0m\u001b[0;34m[\u001b[0m\u001b[0mUnion\u001b[0m\u001b[0;34m[\u001b[0m\u001b[0mint\u001b[0m\u001b[0;34m,\u001b[0m \u001b[0mdevice\u001b[0m\u001b[0;34m]\u001b[0m\u001b[0;34m]\u001b[0m \u001b[0;34m=\u001b[0m \u001b[0;32mNone\u001b[0m\u001b[0;34m)\u001b[0m \u001b[0;34m->\u001b[0m \u001b[0mT\u001b[0m\u001b[0;34m:\u001b[0m\u001b[0;34m\u001b[0m\u001b[0;34m\u001b[0m\u001b[0m\n",
      "\u001b[0;32m~/opt/anaconda3/lib/python3.8/site-packages/torch/nn/modules/module.py\u001b[0m in \u001b[0;36m_apply\u001b[0;34m(self, fn)\u001b[0m\n\u001b[1;32m    568\u001b[0m     \u001b[0;32mdef\u001b[0m \u001b[0m_apply\u001b[0m\u001b[0;34m(\u001b[0m\u001b[0mself\u001b[0m\u001b[0;34m,\u001b[0m \u001b[0mfn\u001b[0m\u001b[0;34m)\u001b[0m\u001b[0;34m:\u001b[0m\u001b[0;34m\u001b[0m\u001b[0;34m\u001b[0m\u001b[0m\n\u001b[1;32m    569\u001b[0m         \u001b[0;32mfor\u001b[0m \u001b[0mmodule\u001b[0m \u001b[0;32min\u001b[0m \u001b[0mself\u001b[0m\u001b[0;34m.\u001b[0m\u001b[0mchildren\u001b[0m\u001b[0;34m(\u001b[0m\u001b[0;34m)\u001b[0m\u001b[0;34m:\u001b[0m\u001b[0;34m\u001b[0m\u001b[0;34m\u001b[0m\u001b[0m\n\u001b[0;32m--> 570\u001b[0;31m             \u001b[0mmodule\u001b[0m\u001b[0;34m.\u001b[0m\u001b[0m_apply\u001b[0m\u001b[0;34m(\u001b[0m\u001b[0mfn\u001b[0m\u001b[0;34m)\u001b[0m\u001b[0;34m\u001b[0m\u001b[0;34m\u001b[0m\u001b[0m\n\u001b[0m\u001b[1;32m    571\u001b[0m \u001b[0;34m\u001b[0m\u001b[0m\n\u001b[1;32m    572\u001b[0m         \u001b[0;32mdef\u001b[0m \u001b[0mcompute_should_use_set_data\u001b[0m\u001b[0;34m(\u001b[0m\u001b[0mtensor\u001b[0m\u001b[0;34m,\u001b[0m \u001b[0mtensor_applied\u001b[0m\u001b[0;34m)\u001b[0m\u001b[0;34m:\u001b[0m\u001b[0;34m\u001b[0m\u001b[0;34m\u001b[0m\u001b[0m\n",
      "\u001b[0;32m~/opt/anaconda3/lib/python3.8/site-packages/torch/nn/modules/module.py\u001b[0m in \u001b[0;36m_apply\u001b[0;34m(self, fn)\u001b[0m\n\u001b[1;32m    568\u001b[0m     \u001b[0;32mdef\u001b[0m \u001b[0m_apply\u001b[0m\u001b[0;34m(\u001b[0m\u001b[0mself\u001b[0m\u001b[0;34m,\u001b[0m \u001b[0mfn\u001b[0m\u001b[0;34m)\u001b[0m\u001b[0;34m:\u001b[0m\u001b[0;34m\u001b[0m\u001b[0;34m\u001b[0m\u001b[0m\n\u001b[1;32m    569\u001b[0m         \u001b[0;32mfor\u001b[0m \u001b[0mmodule\u001b[0m \u001b[0;32min\u001b[0m \u001b[0mself\u001b[0m\u001b[0;34m.\u001b[0m\u001b[0mchildren\u001b[0m\u001b[0;34m(\u001b[0m\u001b[0;34m)\u001b[0m\u001b[0;34m:\u001b[0m\u001b[0;34m\u001b[0m\u001b[0;34m\u001b[0m\u001b[0m\n\u001b[0;32m--> 570\u001b[0;31m             \u001b[0mmodule\u001b[0m\u001b[0;34m.\u001b[0m\u001b[0m_apply\u001b[0m\u001b[0;34m(\u001b[0m\u001b[0mfn\u001b[0m\u001b[0;34m)\u001b[0m\u001b[0;34m\u001b[0m\u001b[0;34m\u001b[0m\u001b[0m\n\u001b[0m\u001b[1;32m    571\u001b[0m \u001b[0;34m\u001b[0m\u001b[0m\n\u001b[1;32m    572\u001b[0m         \u001b[0;32mdef\u001b[0m \u001b[0mcompute_should_use_set_data\u001b[0m\u001b[0;34m(\u001b[0m\u001b[0mtensor\u001b[0m\u001b[0;34m,\u001b[0m \u001b[0mtensor_applied\u001b[0m\u001b[0;34m)\u001b[0m\u001b[0;34m:\u001b[0m\u001b[0;34m\u001b[0m\u001b[0;34m\u001b[0m\u001b[0m\n",
      "\u001b[0;32m~/opt/anaconda3/lib/python3.8/site-packages/torch/nn/modules/module.py\u001b[0m in \u001b[0;36m_apply\u001b[0;34m(self, fn)\u001b[0m\n\u001b[1;32m    591\u001b[0m             \u001b[0;31m# `with torch.no_grad():`\u001b[0m\u001b[0;34m\u001b[0m\u001b[0;34m\u001b[0m\u001b[0;34m\u001b[0m\u001b[0m\n\u001b[1;32m    592\u001b[0m             \u001b[0;32mwith\u001b[0m \u001b[0mtorch\u001b[0m\u001b[0;34m.\u001b[0m\u001b[0mno_grad\u001b[0m\u001b[0;34m(\u001b[0m\u001b[0;34m)\u001b[0m\u001b[0;34m:\u001b[0m\u001b[0;34m\u001b[0m\u001b[0;34m\u001b[0m\u001b[0m\n\u001b[0;32m--> 593\u001b[0;31m                 \u001b[0mparam_applied\u001b[0m \u001b[0;34m=\u001b[0m \u001b[0mfn\u001b[0m\u001b[0;34m(\u001b[0m\u001b[0mparam\u001b[0m\u001b[0;34m)\u001b[0m\u001b[0;34m\u001b[0m\u001b[0;34m\u001b[0m\u001b[0m\n\u001b[0m\u001b[1;32m    594\u001b[0m             \u001b[0mshould_use_set_data\u001b[0m \u001b[0;34m=\u001b[0m \u001b[0mcompute_should_use_set_data\u001b[0m\u001b[0;34m(\u001b[0m\u001b[0mparam\u001b[0m\u001b[0;34m,\u001b[0m \u001b[0mparam_applied\u001b[0m\u001b[0;34m)\u001b[0m\u001b[0;34m\u001b[0m\u001b[0;34m\u001b[0m\u001b[0m\n\u001b[1;32m    595\u001b[0m             \u001b[0;32mif\u001b[0m \u001b[0mshould_use_set_data\u001b[0m\u001b[0;34m:\u001b[0m\u001b[0;34m\u001b[0m\u001b[0;34m\u001b[0m\u001b[0m\n",
      "\u001b[0;32m~/opt/anaconda3/lib/python3.8/site-packages/torch/nn/modules/module.py\u001b[0m in \u001b[0;36m<lambda>\u001b[0;34m(t)\u001b[0m\n\u001b[1;32m    678\u001b[0m             \u001b[0mModule\u001b[0m\u001b[0;34m:\u001b[0m \u001b[0mself\u001b[0m\u001b[0;34m\u001b[0m\u001b[0;34m\u001b[0m\u001b[0m\n\u001b[1;32m    679\u001b[0m         \"\"\"\n\u001b[0;32m--> 680\u001b[0;31m         \u001b[0;32mreturn\u001b[0m \u001b[0mself\u001b[0m\u001b[0;34m.\u001b[0m\u001b[0m_apply\u001b[0m\u001b[0;34m(\u001b[0m\u001b[0;32mlambda\u001b[0m \u001b[0mt\u001b[0m\u001b[0;34m:\u001b[0m \u001b[0mt\u001b[0m\u001b[0;34m.\u001b[0m\u001b[0mcuda\u001b[0m\u001b[0;34m(\u001b[0m\u001b[0mdevice\u001b[0m\u001b[0;34m)\u001b[0m\u001b[0;34m)\u001b[0m\u001b[0;34m\u001b[0m\u001b[0;34m\u001b[0m\u001b[0m\n\u001b[0m\u001b[1;32m    681\u001b[0m \u001b[0;34m\u001b[0m\u001b[0m\n\u001b[1;32m    682\u001b[0m     \u001b[0;32mdef\u001b[0m \u001b[0mxpu\u001b[0m\u001b[0;34m(\u001b[0m\u001b[0mself\u001b[0m\u001b[0;34m:\u001b[0m \u001b[0mT\u001b[0m\u001b[0;34m,\u001b[0m \u001b[0mdevice\u001b[0m\u001b[0;34m:\u001b[0m \u001b[0mOptional\u001b[0m\u001b[0;34m[\u001b[0m\u001b[0mUnion\u001b[0m\u001b[0;34m[\u001b[0m\u001b[0mint\u001b[0m\u001b[0;34m,\u001b[0m \u001b[0mdevice\u001b[0m\u001b[0;34m]\u001b[0m\u001b[0;34m]\u001b[0m \u001b[0;34m=\u001b[0m \u001b[0;32mNone\u001b[0m\u001b[0;34m)\u001b[0m \u001b[0;34m->\u001b[0m \u001b[0mT\u001b[0m\u001b[0;34m:\u001b[0m\u001b[0;34m\u001b[0m\u001b[0;34m\u001b[0m\u001b[0m\n",
      "\u001b[0;32m~/opt/anaconda3/lib/python3.8/site-packages/torch/cuda/__init__.py\u001b[0m in \u001b[0;36m_lazy_init\u001b[0;34m()\u001b[0m\n\u001b[1;32m    206\u001b[0m                 \"multiprocessing, you must use the 'spawn' start method\")\n\u001b[1;32m    207\u001b[0m         \u001b[0;32mif\u001b[0m \u001b[0;32mnot\u001b[0m \u001b[0mhasattr\u001b[0m\u001b[0;34m(\u001b[0m\u001b[0mtorch\u001b[0m\u001b[0;34m.\u001b[0m\u001b[0m_C\u001b[0m\u001b[0;34m,\u001b[0m \u001b[0;34m'_cuda_getDeviceCount'\u001b[0m\u001b[0;34m)\u001b[0m\u001b[0;34m:\u001b[0m\u001b[0;34m\u001b[0m\u001b[0;34m\u001b[0m\u001b[0m\n\u001b[0;32m--> 208\u001b[0;31m             \u001b[0;32mraise\u001b[0m \u001b[0mAssertionError\u001b[0m\u001b[0;34m(\u001b[0m\u001b[0;34m\"Torch not compiled with CUDA enabled\"\u001b[0m\u001b[0;34m)\u001b[0m\u001b[0;34m\u001b[0m\u001b[0;34m\u001b[0m\u001b[0m\n\u001b[0m\u001b[1;32m    209\u001b[0m         \u001b[0;32mif\u001b[0m \u001b[0m_cudart\u001b[0m \u001b[0;32mis\u001b[0m \u001b[0;32mNone\u001b[0m\u001b[0;34m:\u001b[0m\u001b[0;34m\u001b[0m\u001b[0;34m\u001b[0m\u001b[0m\n\u001b[1;32m    210\u001b[0m             raise AssertionError(\n",
      "\u001b[0;31mAssertionError\u001b[0m: Torch not compiled with CUDA enabled"
     ]
    }
   ],
   "source": [
    "layers = [15,75]\n",
    "epochs = 20\n",
    "repeat = 4\n",
    "lr = 0.001\n",
    "\n",
    "results_xavier = []\n",
    "results_novel = []\n",
    "for i in range(repeat):\n",
    "  result_xavier = []\n",
    "  result_novel = []\n",
    "  for layer in layers: \n",
    "    print(layer,'============')\n",
    "    anet = AlexNet(10,num_layers=layer,withbn = False)\n",
    "    anet = anet.cuda()\n",
    "    anet = anet.apply(weights_init)\n",
    "    conv = train(anet,epoch_num=epochs,stepsize=lr)\n",
    "    result_xavier.append(conv)\n",
    "    anet_novel = AlexNet(10,num_layers=layer,withbn=False)\n",
    "    anet_novel = anet_novel.cuda()\n",
    "    anet_novel.apply(weights_init)\n",
    "    anet_novel = novel_initialization(anet_novel)\n",
    "    conv_novel = train(anet_novel,epoch_num=epochs,stepsize=lr)\n",
    "    result_novel.append(conv_novel)\n",
    "  results_novel.append(result_novel)\n",
    "  results_xavier.append(result_xavier)\n"
   ]
  },
  {
   "cell_type": "code",
   "execution_count": null,
   "metadata": {
    "colab": {
     "base_uri": "https://localhost:8080/",
     "height": 17
    },
    "id": "bLgMcEsyKN7h",
    "outputId": "90bb61bd-ab5f-41e2-9878-19bfa5fed2cf"
   },
   "outputs": [],
   "source": [
    "# np.save('novelinit_conv',[results_novel,results_xavier])\n",
    "# files.download('novelinit_conv.npy')"
   ]
  },
  {
   "cell_type": "code",
   "execution_count": null,
   "metadata": {
    "id": "byUQHpYQi2YA"
   },
   "outputs": [],
   "source": [
    "import pandas as pd\n",
    "import seaborn as sns"
   ]
  },
  {
   "cell_type": "code",
   "execution_count": null,
   "metadata": {
    "colab": {
     "base_uri": "https://localhost:8080/",
     "height": 279
    },
    "id": "TOTOcflQfW_7",
    "outputId": "d5adb612-fc07-4891-c2f9-b5cdfcc15247"
   },
   "outputs": [],
   "source": [
    "result_array_novel = np.asarray(results_novel)\n",
    "result_array_xav = np.asarray(results_xavier)\n",
    "results_plot=[]\n",
    "D = []\n",
    "for i in range(repeat): \n",
    "    run_dict={'run_id': np.ones(epochs,dtype=np.int8)*i,'training loss novel':result_array_novel[i][0],'training loss':result_array_xav[i][0]}\n",
    "\n",
    "    for j in range(epochs): \n",
    "        D.append(j+1)\n",
    "    results_plot.append(pd.DataFrame(run_dict))\n",
    "    \n",
    "results_plot=pd.concat(results_plot)\n",
    "\n",
    "p2 = sns.lineplot(data=results_plot,x=D,y=\"training loss\",  marker='s',ci=95,color='blue',label='xavier')\n",
    "p1 = sns.lineplot(data=results_plot,x=D,y=\"training loss novel\",  marker = 'o', ci=95,color='red',label='orthogonal')\n",
    "\n",
    "# ax2 = plt.twinx()\n",
    "# p2 = sns.lineplot(data=results_plot,x=D,y=\"training loss\",  marker='s',ci=95,color='blue',ax = ax2)\n",
    "p2.set(xlabel='epochs')\n",
    "fig = p2.get_figure()\n",
    "fig.savefig('convolutional_15.pdf',format='pdf')\n",
    "files.download('convolutional_15.pdf')"
   ]
  },
  {
   "cell_type": "code",
   "execution_count": null,
   "metadata": {
    "colab": {
     "base_uri": "https://localhost:8080/",
     "height": 279
    },
    "id": "uHVdEycw4qFA",
    "outputId": "4459d052-ba6a-4019-f742-1a53cd609fa2"
   },
   "outputs": [],
   "source": [
    "results_plot=[]\n",
    "D = []\n",
    "for i in range(repeat): \n",
    "    run_dict={'run_id': np.ones(epochs,dtype=np.int8)*i,'training loss novel':result_array_novel[i][1],'training loss':result_array_xav[i][1]}\n",
    "\n",
    "    for j in range(epochs): \n",
    "        D.append(j+1)\n",
    "    results_plot.append(pd.DataFrame(run_dict))\n",
    "    \n",
    "results_plot=pd.concat(results_plot)\n",
    "\n",
    "p2 = sns.lineplot(data=results_plot,x=D,y=\"training loss\",  marker='s',ci=95,color='blue',label='xavier')\n",
    "p1 = sns.lineplot(data=results_plot,x=D,y=\"training loss novel\",  marker = 'o', ci=95,color='red',label='orthogonal')\n",
    "\n",
    "# ax2 = plt.twinx()\n",
    "# p2 = sns.lineplot(data=results_plot,x=D,y=\"training loss\",  marker='s',ci=95,color='blue',ax = ax2)\n",
    "p2.set(xlabel='epochs')\n",
    "fig = p2.get_figure()\n",
    "fig.savefig('convolutional_75.pdf',format='pdf')\n",
    "files.download('convolutional_75.pdf')"
   ]
  },
  {
   "cell_type": "code",
   "execution_count": null,
   "metadata": {
    "id": "3yoYaIx52VZh"
   },
   "outputs": [],
   "source": []
  }
 ],
 "metadata": {
  "accelerator": "GPU",
  "colab": {
   "collapsed_sections": [],
   "name": "AlexnetCifar.ipynb",
   "provenance": []
  },
  "kernelspec": {
   "display_name": "Python 3",
   "language": "python",
   "name": "python3"
  },
  "language_info": {
   "codemirror_mode": {
    "name": "ipython",
    "version": 3
   },
   "file_extension": ".py",
   "mimetype": "text/x-python",
   "name": "python",
   "nbconvert_exporter": "python",
   "pygments_lexer": "ipython3",
   "version": "3.8.8"
  },
  "widgets": {
   "application/vnd.jupyter.widget-state+json": {
    "1a28c279c37541a0bd1ebee7dd093cf4": {
     "model_module": "@jupyter-widgets/base",
     "model_name": "LayoutModel",
     "state": {
      "_model_module": "@jupyter-widgets/base",
      "_model_module_version": "1.2.0",
      "_model_name": "LayoutModel",
      "_view_count": null,
      "_view_module": "@jupyter-widgets/base",
      "_view_module_version": "1.2.0",
      "_view_name": "LayoutView",
      "align_content": null,
      "align_items": null,
      "align_self": null,
      "border": null,
      "bottom": null,
      "display": null,
      "flex": null,
      "flex_flow": null,
      "grid_area": null,
      "grid_auto_columns": null,
      "grid_auto_flow": null,
      "grid_auto_rows": null,
      "grid_column": null,
      "grid_gap": null,
      "grid_row": null,
      "grid_template_areas": null,
      "grid_template_columns": null,
      "grid_template_rows": null,
      "height": null,
      "justify_content": null,
      "justify_items": null,
      "left": null,
      "margin": null,
      "max_height": null,
      "max_width": null,
      "min_height": null,
      "min_width": null,
      "object_fit": null,
      "object_position": null,
      "order": null,
      "overflow": null,
      "overflow_x": null,
      "overflow_y": null,
      "padding": null,
      "right": null,
      "top": null,
      "visibility": null,
      "width": null
     }
    },
    "1d2e9de93e914aad87f8b5b3834cf7e9": {
     "model_module": "@jupyter-widgets/controls",
     "model_name": "HBoxModel",
     "state": {
      "_dom_classes": [],
      "_model_module": "@jupyter-widgets/controls",
      "_model_module_version": "1.5.0",
      "_model_name": "HBoxModel",
      "_view_count": null,
      "_view_module": "@jupyter-widgets/controls",
      "_view_module_version": "1.5.0",
      "_view_name": "HBoxView",
      "box_style": "",
      "children": [
       "IPY_MODEL_a9c7574f7269494b828fc791ae347a1c",
       "IPY_MODEL_b34934a9dfea430d9bc4100a376496f6"
      ],
      "layout": "IPY_MODEL_1a28c279c37541a0bd1ebee7dd093cf4"
     }
    },
    "21e06bfaec6642f4b56d78ef15884aed": {
     "model_module": "@jupyter-widgets/base",
     "model_name": "LayoutModel",
     "state": {
      "_model_module": "@jupyter-widgets/base",
      "_model_module_version": "1.2.0",
      "_model_name": "LayoutModel",
      "_view_count": null,
      "_view_module": "@jupyter-widgets/base",
      "_view_module_version": "1.2.0",
      "_view_name": "LayoutView",
      "align_content": null,
      "align_items": null,
      "align_self": null,
      "border": null,
      "bottom": null,
      "display": null,
      "flex": null,
      "flex_flow": null,
      "grid_area": null,
      "grid_auto_columns": null,
      "grid_auto_flow": null,
      "grid_auto_rows": null,
      "grid_column": null,
      "grid_gap": null,
      "grid_row": null,
      "grid_template_areas": null,
      "grid_template_columns": null,
      "grid_template_rows": null,
      "height": null,
      "justify_content": null,
      "justify_items": null,
      "left": null,
      "margin": null,
      "max_height": null,
      "max_width": null,
      "min_height": null,
      "min_width": null,
      "object_fit": null,
      "object_position": null,
      "order": null,
      "overflow": null,
      "overflow_x": null,
      "overflow_y": null,
      "padding": null,
      "right": null,
      "top": null,
      "visibility": null,
      "width": null
     }
    },
    "3c483155b0d546d88a248807f9fa2d9e": {
     "model_module": "@jupyter-widgets/controls",
     "model_name": "DescriptionStyleModel",
     "state": {
      "_model_module": "@jupyter-widgets/controls",
      "_model_module_version": "1.5.0",
      "_model_name": "DescriptionStyleModel",
      "_view_count": null,
      "_view_module": "@jupyter-widgets/base",
      "_view_module_version": "1.2.0",
      "_view_name": "StyleView",
      "description_width": ""
     }
    },
    "a9c7574f7269494b828fc791ae347a1c": {
     "model_module": "@jupyter-widgets/controls",
     "model_name": "FloatProgressModel",
     "state": {
      "_dom_classes": [],
      "_model_module": "@jupyter-widgets/controls",
      "_model_module_version": "1.5.0",
      "_model_name": "FloatProgressModel",
      "_view_count": null,
      "_view_module": "@jupyter-widgets/controls",
      "_view_module_version": "1.5.0",
      "_view_name": "ProgressView",
      "bar_style": "success",
      "description": "",
      "description_tooltip": null,
      "layout": "IPY_MODEL_c398ab9408c94279806243f9100e447e",
      "max": 170498071,
      "min": 0,
      "orientation": "horizontal",
      "style": "IPY_MODEL_fa6941aa382f48979c08291723d244e2",
      "value": 170498071
     }
    },
    "b34934a9dfea430d9bc4100a376496f6": {
     "model_module": "@jupyter-widgets/controls",
     "model_name": "HTMLModel",
     "state": {
      "_dom_classes": [],
      "_model_module": "@jupyter-widgets/controls",
      "_model_module_version": "1.5.0",
      "_model_name": "HTMLModel",
      "_view_count": null,
      "_view_module": "@jupyter-widgets/controls",
      "_view_module_version": "1.5.0",
      "_view_name": "HTMLView",
      "description": "",
      "description_tooltip": null,
      "layout": "IPY_MODEL_21e06bfaec6642f4b56d78ef15884aed",
      "placeholder": "​",
      "style": "IPY_MODEL_3c483155b0d546d88a248807f9fa2d9e",
      "value": " 170499072/? [00:13&lt;00:00, 13003534.16it/s]"
     }
    },
    "c398ab9408c94279806243f9100e447e": {
     "model_module": "@jupyter-widgets/base",
     "model_name": "LayoutModel",
     "state": {
      "_model_module": "@jupyter-widgets/base",
      "_model_module_version": "1.2.0",
      "_model_name": "LayoutModel",
      "_view_count": null,
      "_view_module": "@jupyter-widgets/base",
      "_view_module_version": "1.2.0",
      "_view_name": "LayoutView",
      "align_content": null,
      "align_items": null,
      "align_self": null,
      "border": null,
      "bottom": null,
      "display": null,
      "flex": null,
      "flex_flow": null,
      "grid_area": null,
      "grid_auto_columns": null,
      "grid_auto_flow": null,
      "grid_auto_rows": null,
      "grid_column": null,
      "grid_gap": null,
      "grid_row": null,
      "grid_template_areas": null,
      "grid_template_columns": null,
      "grid_template_rows": null,
      "height": null,
      "justify_content": null,
      "justify_items": null,
      "left": null,
      "margin": null,
      "max_height": null,
      "max_width": null,
      "min_height": null,
      "min_width": null,
      "object_fit": null,
      "object_position": null,
      "order": null,
      "overflow": null,
      "overflow_x": null,
      "overflow_y": null,
      "padding": null,
      "right": null,
      "top": null,
      "visibility": null,
      "width": null
     }
    },
    "fa6941aa382f48979c08291723d244e2": {
     "model_module": "@jupyter-widgets/controls",
     "model_name": "ProgressStyleModel",
     "state": {
      "_model_module": "@jupyter-widgets/controls",
      "_model_module_version": "1.5.0",
      "_model_name": "ProgressStyleModel",
      "_view_count": null,
      "_view_module": "@jupyter-widgets/base",
      "_view_module_version": "1.2.0",
      "_view_name": "StyleView",
      "bar_color": null,
      "description_width": "initial"
     }
    }
   }
  }
 },
 "nbformat": 4,
 "nbformat_minor": 1
}
