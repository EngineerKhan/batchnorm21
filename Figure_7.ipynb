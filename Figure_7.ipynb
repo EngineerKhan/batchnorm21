{
  "nbformat": 4,
  "nbformat_minor": 0,
  "metadata": {
    "accelerator": "GPU",
    "colab": {
      "name": "AlexnetCifar.ipynb",
      "provenance": [],
      "collapsed_sections": []
    },
    "kernelspec": {
      "display_name": "Python 3",
      "name": "python3"
    },
    "language_info": {
      "name": "python"
    },
    "widgets": {
      "application/vnd.jupyter.widget-state+json": {
        "1d2e9de93e914aad87f8b5b3834cf7e9": {
          "model_module": "@jupyter-widgets/controls",
          "model_name": "HBoxModel",
          "state": {
            "_view_name": "HBoxView",
            "_dom_classes": [],
            "_model_name": "HBoxModel",
            "_view_module": "@jupyter-widgets/controls",
            "_model_module_version": "1.5.0",
            "_view_count": null,
            "_view_module_version": "1.5.0",
            "box_style": "",
            "layout": "IPY_MODEL_1a28c279c37541a0bd1ebee7dd093cf4",
            "_model_module": "@jupyter-widgets/controls",
            "children": [
              "IPY_MODEL_a9c7574f7269494b828fc791ae347a1c",
              "IPY_MODEL_b34934a9dfea430d9bc4100a376496f6"
            ]
          }
        },
        "1a28c279c37541a0bd1ebee7dd093cf4": {
          "model_module": "@jupyter-widgets/base",
          "model_name": "LayoutModel",
          "state": {
            "_view_name": "LayoutView",
            "grid_template_rows": null,
            "right": null,
            "justify_content": null,
            "_view_module": "@jupyter-widgets/base",
            "overflow": null,
            "_model_module_version": "1.2.0",
            "_view_count": null,
            "flex_flow": null,
            "width": null,
            "min_width": null,
            "border": null,
            "align_items": null,
            "bottom": null,
            "_model_module": "@jupyter-widgets/base",
            "top": null,
            "grid_column": null,
            "overflow_y": null,
            "overflow_x": null,
            "grid_auto_flow": null,
            "grid_area": null,
            "grid_template_columns": null,
            "flex": null,
            "_model_name": "LayoutModel",
            "justify_items": null,
            "grid_row": null,
            "max_height": null,
            "align_content": null,
            "visibility": null,
            "align_self": null,
            "height": null,
            "min_height": null,
            "padding": null,
            "grid_auto_rows": null,
            "grid_gap": null,
            "max_width": null,
            "order": null,
            "_view_module_version": "1.2.0",
            "grid_template_areas": null,
            "object_position": null,
            "object_fit": null,
            "grid_auto_columns": null,
            "margin": null,
            "display": null,
            "left": null
          }
        },
        "a9c7574f7269494b828fc791ae347a1c": {
          "model_module": "@jupyter-widgets/controls",
          "model_name": "FloatProgressModel",
          "state": {
            "_view_name": "ProgressView",
            "style": "IPY_MODEL_fa6941aa382f48979c08291723d244e2",
            "_dom_classes": [],
            "description": "",
            "_model_name": "FloatProgressModel",
            "bar_style": "success",
            "max": 170498071,
            "_view_module": "@jupyter-widgets/controls",
            "_model_module_version": "1.5.0",
            "value": 170498071,
            "_view_count": null,
            "_view_module_version": "1.5.0",
            "orientation": "horizontal",
            "min": 0,
            "description_tooltip": null,
            "_model_module": "@jupyter-widgets/controls",
            "layout": "IPY_MODEL_c398ab9408c94279806243f9100e447e"
          }
        },
        "b34934a9dfea430d9bc4100a376496f6": {
          "model_module": "@jupyter-widgets/controls",
          "model_name": "HTMLModel",
          "state": {
            "_view_name": "HTMLView",
            "style": "IPY_MODEL_3c483155b0d546d88a248807f9fa2d9e",
            "_dom_classes": [],
            "description": "",
            "_model_name": "HTMLModel",
            "placeholder": "​",
            "_view_module": "@jupyter-widgets/controls",
            "_model_module_version": "1.5.0",
            "value": " 170499072/? [00:13&lt;00:00, 13003534.16it/s]",
            "_view_count": null,
            "_view_module_version": "1.5.0",
            "description_tooltip": null,
            "_model_module": "@jupyter-widgets/controls",
            "layout": "IPY_MODEL_21e06bfaec6642f4b56d78ef15884aed"
          }
        },
        "fa6941aa382f48979c08291723d244e2": {
          "model_module": "@jupyter-widgets/controls",
          "model_name": "ProgressStyleModel",
          "state": {
            "_view_name": "StyleView",
            "_model_name": "ProgressStyleModel",
            "description_width": "initial",
            "_view_module": "@jupyter-widgets/base",
            "_model_module_version": "1.5.0",
            "_view_count": null,
            "_view_module_version": "1.2.0",
            "bar_color": null,
            "_model_module": "@jupyter-widgets/controls"
          }
        },
        "c398ab9408c94279806243f9100e447e": {
          "model_module": "@jupyter-widgets/base",
          "model_name": "LayoutModel",
          "state": {
            "_view_name": "LayoutView",
            "grid_template_rows": null,
            "right": null,
            "justify_content": null,
            "_view_module": "@jupyter-widgets/base",
            "overflow": null,
            "_model_module_version": "1.2.0",
            "_view_count": null,
            "flex_flow": null,
            "width": null,
            "min_width": null,
            "border": null,
            "align_items": null,
            "bottom": null,
            "_model_module": "@jupyter-widgets/base",
            "top": null,
            "grid_column": null,
            "overflow_y": null,
            "overflow_x": null,
            "grid_auto_flow": null,
            "grid_area": null,
            "grid_template_columns": null,
            "flex": null,
            "_model_name": "LayoutModel",
            "justify_items": null,
            "grid_row": null,
            "max_height": null,
            "align_content": null,
            "visibility": null,
            "align_self": null,
            "height": null,
            "min_height": null,
            "padding": null,
            "grid_auto_rows": null,
            "grid_gap": null,
            "max_width": null,
            "order": null,
            "_view_module_version": "1.2.0",
            "grid_template_areas": null,
            "object_position": null,
            "object_fit": null,
            "grid_auto_columns": null,
            "margin": null,
            "display": null,
            "left": null
          }
        },
        "3c483155b0d546d88a248807f9fa2d9e": {
          "model_module": "@jupyter-widgets/controls",
          "model_name": "DescriptionStyleModel",
          "state": {
            "_view_name": "StyleView",
            "_model_name": "DescriptionStyleModel",
            "description_width": "",
            "_view_module": "@jupyter-widgets/base",
            "_model_module_version": "1.5.0",
            "_view_count": null,
            "_view_module_version": "1.2.0",
            "_model_module": "@jupyter-widgets/controls"
          }
        },
        "21e06bfaec6642f4b56d78ef15884aed": {
          "model_module": "@jupyter-widgets/base",
          "model_name": "LayoutModel",
          "state": {
            "_view_name": "LayoutView",
            "grid_template_rows": null,
            "right": null,
            "justify_content": null,
            "_view_module": "@jupyter-widgets/base",
            "overflow": null,
            "_model_module_version": "1.2.0",
            "_view_count": null,
            "flex_flow": null,
            "width": null,
            "min_width": null,
            "border": null,
            "align_items": null,
            "bottom": null,
            "_model_module": "@jupyter-widgets/base",
            "top": null,
            "grid_column": null,
            "overflow_y": null,
            "overflow_x": null,
            "grid_auto_flow": null,
            "grid_area": null,
            "grid_template_columns": null,
            "flex": null,
            "_model_name": "LayoutModel",
            "justify_items": null,
            "grid_row": null,
            "max_height": null,
            "align_content": null,
            "visibility": null,
            "align_self": null,
            "height": null,
            "min_height": null,
            "padding": null,
            "grid_auto_rows": null,
            "grid_gap": null,
            "max_width": null,
            "order": null,
            "_view_module_version": "1.2.0",
            "grid_template_areas": null,
            "object_position": null,
            "object_fit": null,
            "grid_auto_columns": null,
            "margin": null,
            "display": null,
            "left": null
          }
        }
      }
    }
  },
  "cells": [
    {
      "cell_type": "markdown",
      "metadata": {
        "id": "dCqpeEVNImBz"
      },
      "source": [
        "This code generates **Figure 7**"
      ]
    },
    {
      "cell_type": "code",
      "metadata": {
        "id": "OAQwi-EHroP4"
      },
      "source": [
        "import torch\n",
        "import torch\n",
        "import torchvision\n",
        "import torchvision.transforms as transforms\n",
        "import numpy as np\n",
        "import scipy as sc\n",
        "from matplotlib import pyplot as plt\n",
        "import torch.nn as nn"
      ],
      "execution_count": null,
      "outputs": []
    },
    {
      "cell_type": "code",
      "metadata": {
        "colab": {
          "base_uri": "https://localhost:8080/"
        },
        "id": "kf3mhKg1JGYC",
        "outputId": "b0fc281a-0567-4c40-b8f3-fa10f9e42f9f"
      },
      "source": [
        "# !nvidia-smi --query-gpu=gpu_name,driver_version,memory.total --format=csv"
      ],
      "execution_count": null,
      "outputs": [
        {
          "output_type": "stream",
          "text": [
            "name, driver_version, memory.total [MiB]\n",
            "Tesla P100-PCIE-16GB, 460.32.03, 16280 MiB\n"
          ],
          "name": "stdout"
        }
      ]
    },
    {
      "cell_type": "code",
      "metadata": {
        "colab": {
          "base_uri": "https://localhost:8080/",
          "height": 100,
          "referenced_widgets": [
            "1d2e9de93e914aad87f8b5b3834cf7e9",
            "1a28c279c37541a0bd1ebee7dd093cf4",
            "a9c7574f7269494b828fc791ae347a1c",
            "b34934a9dfea430d9bc4100a376496f6",
            "fa6941aa382f48979c08291723d244e2",
            "c398ab9408c94279806243f9100e447e",
            "3c483155b0d546d88a248807f9fa2d9e",
            "21e06bfaec6642f4b56d78ef15884aed"
          ]
        },
        "id": "eG_gGxuP6Tvl",
        "outputId": "7f9ea9ec-b1bf-4aaa-aac4-0426a977f7db"
      },
      "source": [
        "min_batch_size = 30\n",
        " #transforms.Normalize((0.1307,), (0.3081,))\n",
        "transform = transforms.Compose(\n",
        "    [transforms.ToTensor()])\n",
        "train_dataset = torchvision.datasets.CIFAR10(root='CIFAR', train=True,\n",
        "                                        download=True, transform=transform)\n",
        "train_loader = torch.utils.data.DataLoader(train_dataset, batch_size=min_batch_size,\n",
        "                                          shuffle=True, num_workers=1)"
      ],
      "execution_count": null,
      "outputs": [
        {
          "output_type": "stream",
          "text": [
            "Downloading https://www.cs.toronto.edu/~kriz/cifar-10-python.tar.gz to CIFAR/cifar-10-python.tar.gz\n"
          ],
          "name": "stdout"
        },
        {
          "output_type": "display_data",
          "data": {
            "application/vnd.jupyter.widget-view+json": {
              "model_id": "1d2e9de93e914aad87f8b5b3834cf7e9",
              "version_minor": 0,
              "version_major": 2
            },
            "text/plain": [
              "HBox(children=(FloatProgress(value=0.0, max=170498071.0), HTML(value='')))"
            ]
          },
          "metadata": {
            "tags": []
          }
        },
        {
          "output_type": "stream",
          "text": [
            "\n",
            "Extracting CIFAR/cifar-10-python.tar.gz to CIFAR\n"
          ],
          "name": "stdout"
        }
      ]
    },
    {
      "cell_type": "code",
      "metadata": {
        "id": "DOV3c0HZ6VnZ"
      },
      "source": [
        "dtype = torch.cuda.FloatTensor\n",
        "dtype_labels = torch.cuda.LongTensor"
      ],
      "execution_count": null,
      "outputs": []
    },
    {
      "cell_type": "code",
      "metadata": {
        "id": "wl7C45aH6jeX"
      },
      "source": [
        "import torch.nn as nn\n",
        "class AlexNet(torch.nn.Module):\n",
        "    def __init__(self, output_dim,num_layers = 0,level = 3, withbn = False):\n",
        "        super().__init__()\n",
        "        filters = [64, 192 , 385, 256, 256 ]\n",
        "        layers = []\n",
        "        layers += [nn.Conv2d(3, 64, 3, 2, 1)] #in_channels, out_channels, kernel_size, stride, padding\n",
        "        layers += [nn.MaxPool2d(2)] #kernel_size\n",
        "        layers += [nn.ReLU(inplace = True)]\n",
        "        layers += [nn.Conv2d(64, 192, 3, padding = 1)]\n",
        "        layers += [nn.MaxPool2d(2)]\n",
        "        layers += [nn.ReLU(inplace = True)]\n",
        "        # -----------\n",
        "        layers += [nn.Conv2d(192, 192, 3, padding = 1)]\n",
        "        layers += [nn.ReLU(inplace = True)]\n",
        "        if level == 2: \n",
        "          for i in range(num_layers):\n",
        "            layers += [nn.Conv2d(192, 192, 3, padding = 1,bias=False),nn.ReLU(inplace=True)]\n",
        "            if withbn:\n",
        "              layers += [nn.BatchNorm2d(192)]\n",
        "        # ------------\n",
        "        layers += [nn.Conv2d(192, 256, 3, padding = 1)]\n",
        "        layers += [nn.Conv2d(256, 256, 3, padding = 1),nn.ReLU(inplace=True)]\n",
        "        if level == 3: \n",
        "          for i in range(num_layers):\n",
        "            layers += [nn.Conv2d(256, 256, 3, padding = 1),nn.ReLU(inplace=True)]\n",
        "            if withbn:\n",
        "              layers += [nn.BatchNorm2d(256)]\n",
        "            \n",
        "        layers += [nn.MaxPool2d(2)]\n",
        "        layers += [nn.ReLU(inplace = True)]\n",
        "        self.features = nn.Sequential(*layers)\n",
        "        \n",
        "        self.classifier = nn.Sequential(\n",
        "            nn.Dropout(0.5),\n",
        "            nn.Linear(1024, 4*1024),\n",
        "            nn.ReLU(inplace = True),\n",
        "            nn.Dropout(0.5),\n",
        "            nn.Linear(4*1024, 4*1024),\n",
        "            nn.ReLU(inplace = True),\n",
        "            nn.Linear(4*1024, output_dim),\n",
        "        )\n",
        "\n",
        "    def forward(self, x):\n",
        "        x = self.features(x)\n",
        "        h = x.view(x.shape[0], -1)\n",
        "        x = self.classifier(h)\n",
        "        return x\n",
        "    def forward_noclassi(self, x):\n",
        "        x = self.features(x)\n",
        "        h = x.view(x.shape[0], -1)\n",
        "        return h\n",
        "def weights_init(m):\n",
        "    if isinstance(m, torch.nn.Linear):\n",
        "        torch.nn.init.xavier_uniform_(m.weight,gain=torch.nn.init.calculate_gain('relu'))\n",
        "        if m.bias is not None:\n",
        "            m.bias.data.fill_(0)\n",
        "    if isinstance(m, torch.nn.Conv2d):\n",
        "        torch.nn.init.xavier_uniform_(m.weight,gain=torch.nn.init.calculate_gain('relu'))\n",
        "        if m.bias is not None:\n",
        "            m.bias.data.fill_(0)"
      ],
      "execution_count": null,
      "outputs": []
    },
    {
      "cell_type": "code",
      "metadata": {
        "id": "yULi_YB27iGB"
      },
      "source": [
        "def train(net,epoch_num = 10,stepsize = 0.01):\n",
        "    criterion = nn.CrossEntropyLoss(size_average=True)\n",
        "    opt= torch.optim.SGD(net.parameters(), lr=stepsize)\n",
        "    output = []\n",
        "    num_total = len(train_dataset.targets) \n",
        "    for j in range(epoch_num):\n",
        "        loss_epoch = 0\n",
        "        for i, data in enumerate(train_loader): \n",
        "            x, y = data\n",
        "            x = x.type(dtype)\n",
        "            y = y.type(dtype_labels)\n",
        "            \n",
        "            opt.zero_grad()\n",
        "            outx = net.forward(x)\n",
        "            loss = criterion(outx, y)\n",
        "            loss.backward()\n",
        "            loss_epoch += loss.item()*min_batch_size/num_total\n",
        "            # if i % 1000 ==0:\n",
        "            #     print(i)\n",
        "            opt.step()\n",
        "        print(loss_epoch)\n",
        "        output.append(loss_epoch)\n",
        "    return output\n",
        "    "
      ],
      "execution_count": null,
      "outputs": []
    },
    {
      "cell_type": "markdown",
      "metadata": {
        "id": "Wu6kV587I9KQ"
      },
      "source": [
        "The following function extend the svd based initialization to convolutional networks. When samples are pass throught the network layers. We use SVD decomposition of hidden representations to recurrently initialize the weights through the layers.   "
      ]
    },
    {
      "cell_type": "code",
      "metadata": {
        "id": "kcho4VL3-OKB"
      },
      "source": [
        "def novel_initialization(anet_im): # the input is a network \n",
        "  # picks a batch of samples\n",
        "  bs = 256\n",
        "  train_loader2 = torch.utils.data.DataLoader(train_dataset, batch_size=bs,\n",
        "                                            shuffle=True, num_workers=1)\n",
        "  dataiter = iter(train_loader2)\n",
        "  images, labels = dataiter.next()\n",
        "  images = images.type(dtype)\n",
        "  out = anet_im.forward_noclassi(images)\n",
        "  M = out.t().mm(out)\n",
        "  print(torch.norm(M)/torch.trace(M))\n",
        "  x = images\n",
        "  steps = 1200\n",
        "  for unit in anet_im.features:\n",
        "    if isinstance(unit,nn.Conv2d): \n",
        "      if unit.in_channels == unit.out_channels: \n",
        "          zp = torch.nn.ZeroPad2d(unit.padding[0])\n",
        "          input = x.data\n",
        "          print(input.size())\n",
        "          input = zp(input)\n",
        "          w = unit.weight\n",
        "          d2 = input.size(2)\n",
        "          d3 = input.size(3)\n",
        "          ### here we reshape representations to implemnet the convolution using matrix multiplication \n",
        "          inp_unf = torch.nn.functional.unfold(input,kernel_size=unit.kernel_size,stride=unit.stride)\n",
        "          inp_unf_size = inp_unf.size()\n",
        "          inp_unf = inp_unf.transpose(1,2)\n",
        "          inp_unf = inp_unf.reshape(inp_unf.size(0)*inp_unf.size(1),inp_unf.size(2))\n",
        "          ### svd decomposition of the reshaped representations \n",
        "          u,s,v = torch.svd(inp_unf) \n",
        "          wd = w.view(w.size(0), -1).t().size(1)\n",
        "          w1 = u[0:wd,0:wd].mm(torch.diag(1/torch.pow(s[0:wd],0.5))).mm(v.t()[0:wd,:])\n",
        "          unit.weight.data = w1.reshape(w.size())\n",
        "          unit.weight.data = unit.weight.data/torch.norm(unit.forward(x))\n",
        "          print(torch.norm(unit.weight.data))\n",
        "    x = unit(x)\n",
        "    H = x.flatten(1)\n",
        "    M = H.mm(H.t())\n",
        "    # print(torch.norm(M)/torch.trace(M))\n",
        "    # print('=======')\n",
        "  out = anet_im.forward_noclassi(images)\n",
        "  M = out.t().mm(out)\n",
        "  print(torch.norm(M)/torch.trace(M))\n",
        "  return anet_im"
      ],
      "execution_count": null,
      "outputs": []
    },
    {
      "cell_type": "code",
      "metadata": {
        "id": "PDdjwkU59hx0"
      },
      "source": [
        "layers = [15,75]\n",
        "epochs = 20\n",
        "repeat = 4\n",
        "lr = 0.001\n",
        "\n",
        "results_xavier = []\n",
        "results_novel = []\n",
        "for i in range(repeat):\n",
        "  result_xavier = []\n",
        "  result_novel = []\n",
        "  for layer in layers: \n",
        "    print(layer,'============')\n",
        "    anet = AlexNet(10,num_layers=layer,withbn = False)\n",
        "    anet = anet.cuda()\n",
        "    anet = anet.apply(weights_init)\n",
        "    conv = train(anet,epoch_num=epochs,stepsize=lr)\n",
        "    result_xavier.append(conv)\n",
        "    anet_novel = AlexNet(10,num_layers=layer,withbn=False)\n",
        "    anet_novel = anet_novel.cuda()\n",
        "    anet_novel.apply(weights_init)\n",
        "    anet_novel = novel_initialization(anet_novel)\n",
        "    conv_novel = train(anet_novel,epoch_num=epochs,stepsize=lr)\n",
        "    result_novel.append(conv_novel)\n",
        "  results_novel.append(result_novel)\n",
        "  results_xavier.append(result_xavier)\n"
      ],
      "execution_count": 1,
      "outputs": []
    },
    {
      "cell_type": "code",
      "metadata": {
        "colab": {
          "base_uri": "https://localhost:8080/",
          "height": 17
        },
        "id": "bLgMcEsyKN7h",
        "outputId": "90bb61bd-ab5f-41e2-9878-19bfa5fed2cf"
      },
      "source": [
        "# np.save('novelinit_conv',[results_novel,results_xavier])\n",
        "# files.download('novelinit_conv.npy')"
      ],
      "execution_count": null,
      "outputs": [
        {
          "output_type": "display_data",
          "data": {
            "application/javascript": [
              "\n",
              "    async function download(id, filename, size) {\n",
              "      if (!google.colab.kernel.accessAllowed) {\n",
              "        return;\n",
              "      }\n",
              "      const div = document.createElement('div');\n",
              "      const label = document.createElement('label');\n",
              "      label.textContent = `Downloading \"${filename}\": `;\n",
              "      div.appendChild(label);\n",
              "      const progress = document.createElement('progress');\n",
              "      progress.max = size;\n",
              "      div.appendChild(progress);\n",
              "      document.body.appendChild(div);\n",
              "\n",
              "      const buffers = [];\n",
              "      let downloaded = 0;\n",
              "\n",
              "      const channel = await google.colab.kernel.comms.open(id);\n",
              "      // Send a message to notify the kernel that we're ready.\n",
              "      channel.send({})\n",
              "\n",
              "      for await (const message of channel.messages) {\n",
              "        // Send a message to notify the kernel that we're ready.\n",
              "        channel.send({})\n",
              "        if (message.buffers) {\n",
              "          for (const buffer of message.buffers) {\n",
              "            buffers.push(buffer);\n",
              "            downloaded += buffer.byteLength;\n",
              "            progress.value = downloaded;\n",
              "          }\n",
              "        }\n",
              "      }\n",
              "      const blob = new Blob(buffers, {type: 'application/binary'});\n",
              "      const a = document.createElement('a');\n",
              "      a.href = window.URL.createObjectURL(blob);\n",
              "      a.download = filename;\n",
              "      div.appendChild(a);\n",
              "      a.click();\n",
              "      div.remove();\n",
              "    }\n",
              "  "
            ],
            "text/plain": [
              "<IPython.core.display.Javascript object>"
            ]
          },
          "metadata": {
            "tags": []
          }
        },
        {
          "output_type": "display_data",
          "data": {
            "application/javascript": [
              "download(\"download_e37e4a77-7577-4830-ad0e-b05a734afc73\", \"novelinit_conv.npy\", 2688)"
            ],
            "text/plain": [
              "<IPython.core.display.Javascript object>"
            ]
          },
          "metadata": {
            "tags": []
          }
        }
      ]
    },
    {
      "cell_type": "code",
      "metadata": {
        "id": "byUQHpYQi2YA"
      },
      "source": [
        "import pandas as pd\n",
        "import seaborn as sns"
      ],
      "execution_count": null,
      "outputs": []
    },
    {
      "cell_type": "code",
      "metadata": {
        "colab": {
          "base_uri": "https://localhost:8080/",
          "height": 279
        },
        "id": "TOTOcflQfW_7",
        "outputId": "d5adb612-fc07-4891-c2f9-b5cdfcc15247"
      },
      "source": [
        "result_array_novel = np.asarray(results_novel)\n",
        "result_array_xav = np.asarray(results_xavier)\n",
        "results_plot=[]\n",
        "D = []\n",
        "for i in range(repeat): \n",
        "    run_dict={'run_id': np.ones(epochs,dtype=np.int8)*i,'training loss novel':result_array_novel[i][0],'training loss':result_array_xav[i][0]}\n",
        "\n",
        "    for j in range(epochs): \n",
        "        D.append(j+1)\n",
        "    results_plot.append(pd.DataFrame(run_dict))\n",
        "    \n",
        "results_plot=pd.concat(results_plot)\n",
        "\n",
        "p2 = sns.lineplot(data=results_plot,x=D,y=\"training loss\",  marker='s',ci=95,color='blue',label='xavier')\n",
        "p1 = sns.lineplot(data=results_plot,x=D,y=\"training loss novel\",  marker = 'o', ci=95,color='red',label='orthogonal')\n",
        "\n",
        "# ax2 = plt.twinx()\n",
        "# p2 = sns.lineplot(data=results_plot,x=D,y=\"training loss\",  marker='s',ci=95,color='blue',ax = ax2)\n",
        "p2.set(xlabel='epochs')\n",
        "fig = p2.get_figure()\n",
        "fig.savefig('convolutional_15.pdf',format='pdf')\n",
        "files.download('convolutional_15.pdf')"
      ],
      "execution_count": null,
      "outputs": [
        {
          "output_type": "display_data",
          "data": {
            "application/javascript": [
              "\n",
              "    async function download(id, filename, size) {\n",
              "      if (!google.colab.kernel.accessAllowed) {\n",
              "        return;\n",
              "      }\n",
              "      const div = document.createElement('div');\n",
              "      const label = document.createElement('label');\n",
              "      label.textContent = `Downloading \"${filename}\": `;\n",
              "      div.appendChild(label);\n",
              "      const progress = document.createElement('progress');\n",
              "      progress.max = size;\n",
              "      div.appendChild(progress);\n",
              "      document.body.appendChild(div);\n",
              "\n",
              "      const buffers = [];\n",
              "      let downloaded = 0;\n",
              "\n",
              "      const channel = await google.colab.kernel.comms.open(id);\n",
              "      // Send a message to notify the kernel that we're ready.\n",
              "      channel.send({})\n",
              "\n",
              "      for await (const message of channel.messages) {\n",
              "        // Send a message to notify the kernel that we're ready.\n",
              "        channel.send({})\n",
              "        if (message.buffers) {\n",
              "          for (const buffer of message.buffers) {\n",
              "            buffers.push(buffer);\n",
              "            downloaded += buffer.byteLength;\n",
              "            progress.value = downloaded;\n",
              "          }\n",
              "        }\n",
              "      }\n",
              "      const blob = new Blob(buffers, {type: 'application/binary'});\n",
              "      const a = document.createElement('a');\n",
              "      a.href = window.URL.createObjectURL(blob);\n",
              "      a.download = filename;\n",
              "      div.appendChild(a);\n",
              "      a.click();\n",
              "      div.remove();\n",
              "    }\n",
              "  "
            ],
            "text/plain": [
              "<IPython.core.display.Javascript object>"
            ]
          },
          "metadata": {
            "tags": []
          }
        },
        {
          "output_type": "display_data",
          "data": {
            "application/javascript": [
              "download(\"download_f97e1991-32c8-4631-81b9-ca58576eae90\", \"convolutional_15.pdf\", 13285)"
            ],
            "text/plain": [
              "<IPython.core.display.Javascript object>"
            ]
          },
          "metadata": {
            "tags": []
          }
        },
        {
          "output_type": "display_data",
          "data": {
            "image/png": "[encoded data removed]",
            "text/plain": [
              "<Figure size 432x288 with 1 Axes>"
            ]
          },
          "metadata": {
            "tags": [],
            "needs_background": "light"
          }
        }
      ]
    },
    {
      "cell_type": "code",
      "metadata": {
        "colab": {
          "base_uri": "https://localhost:8080/",
          "height": 279
        },
        "id": "uHVdEycw4qFA",
        "outputId": "4459d052-ba6a-4019-f742-1a53cd609fa2"
      },
      "source": [
        "results_plot=[]\n",
        "D = []\n",
        "for i in range(repeat): \n",
        "    run_dict={'run_id': np.ones(epochs,dtype=np.int8)*i,'training loss novel':result_array_novel[i][1],'training loss':result_array_xav[i][1]}\n",
        "\n",
        "    for j in range(epochs): \n",
        "        D.append(j+1)\n",
        "    results_plot.append(pd.DataFrame(run_dict))\n",
        "    \n",
        "results_plot=pd.concat(results_plot)\n",
        "\n",
        "p2 = sns.lineplot(data=results_plot,x=D,y=\"training loss\",  marker='s',ci=95,color='blue',label='xavier')\n",
        "p1 = sns.lineplot(data=results_plot,x=D,y=\"training loss novel\",  marker = 'o', ci=95,color='red',label='orthogonal')\n",
        "\n",
        "# ax2 = plt.twinx()\n",
        "# p2 = sns.lineplot(data=results_plot,x=D,y=\"training loss\",  marker='s',ci=95,color='blue',ax = ax2)\n",
        "p2.set(xlabel='epochs')\n",
        "fig = p2.get_figure()\n",
        "fig.savefig('convolutional_75.pdf',format='pdf')\n",
        "files.download('convolutional_75.pdf')"
      ],
      "execution_count": null,
      "outputs": [
        {
          "output_type": "display_data",
          "data": {
            "application/javascript": [
              "\n",
              "    async function download(id, filename, size) {\n",
              "      if (!google.colab.kernel.accessAllowed) {\n",
              "        return;\n",
              "      }\n",
              "      const div = document.createElement('div');\n",
              "      const label = document.createElement('label');\n",
              "      label.textContent = `Downloading \"${filename}\": `;\n",
              "      div.appendChild(label);\n",
              "      const progress = document.createElement('progress');\n",
              "      progress.max = size;\n",
              "      div.appendChild(progress);\n",
              "      document.body.appendChild(div);\n",
              "\n",
              "      const buffers = [];\n",
              "      let downloaded = 0;\n",
              "\n",
              "      const channel = await google.colab.kernel.comms.open(id);\n",
              "      // Send a message to notify the kernel that we're ready.\n",
              "      channel.send({})\n",
              "\n",
              "      for await (const message of channel.messages) {\n",
              "        // Send a message to notify the kernel that we're ready.\n",
              "        channel.send({})\n",
              "        if (message.buffers) {\n",
              "          for (const buffer of message.buffers) {\n",
              "            buffers.push(buffer);\n",
              "            downloaded += buffer.byteLength;\n",
              "            progress.value = downloaded;\n",
              "          }\n",
              "        }\n",
              "      }\n",
              "      const blob = new Blob(buffers, {type: 'application/binary'});\n",
              "      const a = document.createElement('a');\n",
              "      a.href = window.URL.createObjectURL(blob);\n",
              "      a.download = filename;\n",
              "      div.appendChild(a);\n",
              "      a.click();\n",
              "      div.remove();\n",
              "    }\n",
              "  "
            ],
            "text/plain": [
              "<IPython.core.display.Javascript object>"
            ]
          },
          "metadata": {
            "tags": []
          }
        },
        {
          "output_type": "display_data",
          "data": {
            "application/javascript": [
              "download(\"download_c152436f-f811-43c3-bb8d-f1614e2e9dc5\", \"convolutional_75.pdf\", 13183)"
            ],
            "text/plain": [
              "<IPython.core.display.Javascript object>"
            ]
          },
          "metadata": {
            "tags": []
          }
        },
        {
          "output_type": "display_data",
          "data": {
            "image/png": "[encoded data removed]",
            "text/plain": [
              "<Figure size 432x288 with 1 Axes>"
            ]
          },
          "metadata": {
            "tags": [],
            "needs_background": "light"
          }
        }
      ]
    },
    {
      "cell_type": "code",
      "metadata": {
        "id": "3yoYaIx52VZh"
      },
      "source": [
        ""
      ],
      "execution_count": null,
      "outputs": []
    }
  ]
}